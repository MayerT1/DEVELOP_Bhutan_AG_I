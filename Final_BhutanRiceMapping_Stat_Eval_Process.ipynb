{
  "nbformat": 4,
  "nbformat_minor": 0,
  "metadata": {
    "colab": {
      "name": "Copy of NASA_DEVELOP_Stat_Eval_Process.ipynb",
      "provenance": [],
      "collapsed_sections": [
        "tT06aC5bhQir",
        "IPoJeu32h-Zm",
        "DKf4qnnAe-Cj"
      ],
      "include_colab_link": true
    },
    "kernelspec": {
      "name": "python3",
      "display_name": "Python 3"
    }
  },
  "cells": [
    {
      "cell_type": "markdown",
      "metadata": {
        "id": "view-in-github",
        "colab_type": "text"
      },
      "source": [
        "<a href=\"https://colab.research.google.com/github/MayerT1/DEVELOP_Bhutan_AG_I/blob/main/Final_BhutanRiceMapping_Stat_Eval_Process.ipynb\" target=\"_parent\"><img src=\"https://colab.research.google.com/assets/colab-badge.svg\" alt=\"Open In Colab\"/></a>"
      ]
    },
    {
      "cell_type": "markdown",
      "metadata": {
        "id": "ws5AzDiNgdWh"
      },
      "source": [
        "# Hello Welcome Team\n",
        "This is a COLAB to learn more see these links [Video 1](https://www.youtube.com/watch?v=inN8seMm7UI&feature=youtu.be) | [Video 2](https://www.youtube.com/watch?v=i-HnvsehuSw) | [Example Colab](https://colab.research.google.com/notebooks/intro.ipynb)\n",
        "\n",
        "In short we are using a Virtual Machine (VM) with Python to look at your data in more detail"
      ]
    },
    {
      "cell_type": "markdown",
      "metadata": {
        "id": "G7QkwuIhfFB1"
      },
      "source": [
        "# Setup"
      ]
    },
    {
      "cell_type": "code",
      "metadata": {
        "id": "ad6x0YHjEzpY",
        "colab": {
          "base_uri": "https://localhost:8080/",
          "height": 361
        },
        "outputId": "28ff90c4-75fd-4ae7-eff3-f15c45b2c662"
      },
      "source": [
        "import os, sys\n",
        "from google.colab import drive\n",
        "drive.mount('/content/mnt')\n",
        "nb_path = '/content/notebooks'\n",
        "#create a symbolic link for pointing to /content/mnt/My Drive/Colab Notebooks\n",
        "os.symlink('/content/mnt/My Drive/Colab Notebooks', nb_path)\n",
        "sys.path.insert(0, nb_path) "
      ],
      "execution_count": null,
      "outputs": [
        {
          "output_type": "error",
          "ename": "MessageError",
          "evalue": "ignored",
          "traceback": [
            "\u001b[0;31m---------------------------------------------------------------------------\u001b[0m",
            "\u001b[0;31mMessageError\u001b[0m                              Traceback (most recent call last)",
            "\u001b[0;32m<ipython-input-1-c83a5b521b79>\u001b[0m in \u001b[0;36m<module>\u001b[0;34m()\u001b[0m\n\u001b[1;32m      1\u001b[0m \u001b[0;32mimport\u001b[0m \u001b[0mos\u001b[0m\u001b[0;34m,\u001b[0m \u001b[0msys\u001b[0m\u001b[0;34m\u001b[0m\u001b[0;34m\u001b[0m\u001b[0m\n\u001b[1;32m      2\u001b[0m \u001b[0;32mfrom\u001b[0m \u001b[0mgoogle\u001b[0m\u001b[0;34m.\u001b[0m\u001b[0mcolab\u001b[0m \u001b[0;32mimport\u001b[0m \u001b[0mdrive\u001b[0m\u001b[0;34m\u001b[0m\u001b[0;34m\u001b[0m\u001b[0m\n\u001b[0;32m----> 3\u001b[0;31m \u001b[0mdrive\u001b[0m\u001b[0;34m.\u001b[0m\u001b[0mmount\u001b[0m\u001b[0;34m(\u001b[0m\u001b[0;34m'/content/mnt'\u001b[0m\u001b[0;34m)\u001b[0m\u001b[0;34m\u001b[0m\u001b[0;34m\u001b[0m\u001b[0m\n\u001b[0m\u001b[1;32m      4\u001b[0m \u001b[0mnb_path\u001b[0m \u001b[0;34m=\u001b[0m \u001b[0;34m'/content/notebooks'\u001b[0m\u001b[0;34m\u001b[0m\u001b[0;34m\u001b[0m\u001b[0m\n\u001b[1;32m      5\u001b[0m \u001b[0;31m#create a symbolic link for pointing to /content/mnt/My Drive/Colab Notebooks\u001b[0m\u001b[0;34m\u001b[0m\u001b[0;34m\u001b[0m\u001b[0;34m\u001b[0m\u001b[0m\n",
            "\u001b[0;32m/usr/local/lib/python3.7/dist-packages/google/colab/drive.py\u001b[0m in \u001b[0;36mmount\u001b[0;34m(mountpoint, force_remount, timeout_ms, use_metadata_server)\u001b[0m\n\u001b[1;32m    111\u001b[0m       \u001b[0mtimeout_ms\u001b[0m\u001b[0;34m=\u001b[0m\u001b[0mtimeout_ms\u001b[0m\u001b[0;34m,\u001b[0m\u001b[0;34m\u001b[0m\u001b[0;34m\u001b[0m\u001b[0m\n\u001b[1;32m    112\u001b[0m       \u001b[0muse_metadata_server\u001b[0m\u001b[0;34m=\u001b[0m\u001b[0muse_metadata_server\u001b[0m\u001b[0;34m,\u001b[0m\u001b[0;34m\u001b[0m\u001b[0;34m\u001b[0m\u001b[0m\n\u001b[0;32m--> 113\u001b[0;31m       ephemeral=ephemeral)\n\u001b[0m\u001b[1;32m    114\u001b[0m \u001b[0;34m\u001b[0m\u001b[0m\n\u001b[1;32m    115\u001b[0m \u001b[0;34m\u001b[0m\u001b[0m\n",
            "\u001b[0;32m/usr/local/lib/python3.7/dist-packages/google/colab/drive.py\u001b[0m in \u001b[0;36m_mount\u001b[0;34m(mountpoint, force_remount, timeout_ms, use_metadata_server, ephemeral)\u001b[0m\n\u001b[1;32m    134\u001b[0m   \u001b[0;32mif\u001b[0m \u001b[0mephemeral\u001b[0m\u001b[0;34m:\u001b[0m\u001b[0;34m\u001b[0m\u001b[0;34m\u001b[0m\u001b[0m\n\u001b[1;32m    135\u001b[0m     _message.blocking_request(\n\u001b[0;32m--> 136\u001b[0;31m         'request_auth', request={'authType': 'dfs_ephemeral'}, timeout_sec=None)\n\u001b[0m\u001b[1;32m    137\u001b[0m \u001b[0;34m\u001b[0m\u001b[0m\n\u001b[1;32m    138\u001b[0m   \u001b[0mmountpoint\u001b[0m \u001b[0;34m=\u001b[0m \u001b[0m_os\u001b[0m\u001b[0;34m.\u001b[0m\u001b[0mpath\u001b[0m\u001b[0;34m.\u001b[0m\u001b[0mexpanduser\u001b[0m\u001b[0;34m(\u001b[0m\u001b[0mmountpoint\u001b[0m\u001b[0;34m)\u001b[0m\u001b[0;34m\u001b[0m\u001b[0;34m\u001b[0m\u001b[0m\n",
            "\u001b[0;32m/usr/local/lib/python3.7/dist-packages/google/colab/_message.py\u001b[0m in \u001b[0;36mblocking_request\u001b[0;34m(request_type, request, timeout_sec, parent)\u001b[0m\n\u001b[1;32m    173\u001b[0m   request_id = send_request(\n\u001b[1;32m    174\u001b[0m       request_type, request, parent=parent, expect_reply=True)\n\u001b[0;32m--> 175\u001b[0;31m   \u001b[0;32mreturn\u001b[0m \u001b[0mread_reply_from_input\u001b[0m\u001b[0;34m(\u001b[0m\u001b[0mrequest_id\u001b[0m\u001b[0;34m,\u001b[0m \u001b[0mtimeout_sec\u001b[0m\u001b[0;34m)\u001b[0m\u001b[0;34m\u001b[0m\u001b[0;34m\u001b[0m\u001b[0m\n\u001b[0m",
            "\u001b[0;32m/usr/local/lib/python3.7/dist-packages/google/colab/_message.py\u001b[0m in \u001b[0;36mread_reply_from_input\u001b[0;34m(message_id, timeout_sec)\u001b[0m\n\u001b[1;32m    104\u001b[0m         reply.get('colab_msg_id') == message_id):\n\u001b[1;32m    105\u001b[0m       \u001b[0;32mif\u001b[0m \u001b[0;34m'error'\u001b[0m \u001b[0;32min\u001b[0m \u001b[0mreply\u001b[0m\u001b[0;34m:\u001b[0m\u001b[0;34m\u001b[0m\u001b[0;34m\u001b[0m\u001b[0m\n\u001b[0;32m--> 106\u001b[0;31m         \u001b[0;32mraise\u001b[0m \u001b[0mMessageError\u001b[0m\u001b[0;34m(\u001b[0m\u001b[0mreply\u001b[0m\u001b[0;34m[\u001b[0m\u001b[0;34m'error'\u001b[0m\u001b[0;34m]\u001b[0m\u001b[0;34m)\u001b[0m\u001b[0;34m\u001b[0m\u001b[0;34m\u001b[0m\u001b[0m\n\u001b[0m\u001b[1;32m    107\u001b[0m       \u001b[0;32mreturn\u001b[0m \u001b[0mreply\u001b[0m\u001b[0;34m.\u001b[0m\u001b[0mget\u001b[0m\u001b[0;34m(\u001b[0m\u001b[0;34m'data'\u001b[0m\u001b[0;34m,\u001b[0m \u001b[0;32mNone\u001b[0m\u001b[0;34m)\u001b[0m\u001b[0;34m\u001b[0m\u001b[0;34m\u001b[0m\u001b[0m\n\u001b[1;32m    108\u001b[0m \u001b[0;34m\u001b[0m\u001b[0m\n",
            "\u001b[0;31mMessageError\u001b[0m: Error: credential propagation was unsuccessful"
          ]
        }
      ]
    },
    {
      "cell_type": "code",
      "metadata": {
        "id": "JXzTeyR1HdD4",
        "colab": {
          "base_uri": "https://localhost:8080/"
        },
        "outputId": "abe7c2b6-bbdd-4722-e147-c882427cfcbd"
      },
      "source": [
        "%cd /content/notebooks/\n",
        "!ls"
      ],
      "execution_count": null,
      "outputs": [
        {
          "output_type": "stream",
          "name": "stdout",
          "text": [
            "/content/mnt/My Drive/Colab Notebooks\n",
            " abc.png\t\t\t\t\t DOA_Validation_Pts.csv\n",
            " CART_testing_results.csv\t\t\t RF_testing_results.csv\n",
            " CART_training_results.csv\t\t\t RF_training_results.csv\n",
            "'Copy of htmlcss.ipynb'\t\t\t\t stat_dict_output_df.csv\n",
            "'Copy of NASA_DEVELOP_Stat_Eval_Process.ipynb'\n"
          ]
        }
      ]
    },
    {
      "cell_type": "code",
      "metadata": {
        "id": "Ye_KXmRiE18-"
      },
      "source": [
        "from sklearn import metrics\n",
        "from sklearn.metrics import confusion_matrix \n",
        "from sklearn.metrics import accuracy_score \n",
        "from sklearn.metrics import classification_report \n",
        "from sklearn.metrics import cohen_kappa_score\n",
        "from sklearn.metrics import average_precision_score\n",
        "from sklearn.metrics import f1_score\n",
        "from sklearn.metrics import precision_score\n",
        "from sklearn.metrics import fbeta_score\n",
        "from sklearn.metrics import precision_recall_fscore_support\n",
        "from sklearn.metrics import roc_auc_score\n",
        "from sklearn.metrics import roc_curve\n",
        "from sklearn.metrics import brier_score_loss\n",
        "from google.colab import files\n",
        "\n",
        "import seaborn as sns\n",
        "sns.set_theme(style=\"white\")\n",
        "\n",
        "import pandas as pd\n",
        "import numpy as np\n",
        "#from sklearn.metrics import plot_confusion_matrix\n",
        "from mlxtend.plotting import plot_confusion_matrix\n",
        "import matplotlib.pyplot as plt\n",
        "import itertools\n",
        "%matplotlib inline"
      ],
      "execution_count": null,
      "outputs": []
    },
    {
      "cell_type": "code",
      "metadata": {
        "id": "MT2UBY7fVop1",
        "colab": {
          "base_uri": "https://localhost:8080/",
          "height": 408
        },
        "outputId": "425622ee-0db2-4d40-f71a-96c4513dd642"
      },
      "source": [
        "validation = pd.read_csv('DOA_Validation_Pts.csv')\n",
        "RF_training_data = pd.read_csv('RF_training_results.csv')\n",
        "RF_testing_data = pd.read_csv('RF_testing_results.csv')\n",
        "CART_training_data = pd.read_csv('CART_training_results.csv')\n",
        "CART_testing_data = pd.read_csv('CART_testing_results.csv')\n",
        "\n",
        "\n",
        "location = validation['.geo']\n",
        "actual = validation['presence']\n",
        "RF_training =RF_training_data['classification']\n",
        "RF_testing =RF_testing_data['classification']\n",
        "CART_training =CART_training_data['classification']\n",
        "CART_testing =CART_testing_data['classification']\n",
        "combined_data = pd.concat([location, actual,RF_training,RF_testing,CART_training,CART_testing], axis=1)\n",
        "display(combined_data)\n",
        "\n",
        "#Class names for binary analysis\n",
        "class_names = [\"Rice\",\"Not Rice\"]"
      ],
      "execution_count": null,
      "outputs": [
        {
          "output_type": "display_data",
          "data": {
            "text/html": [
              "<div>\n",
              "<style scoped>\n",
              "    .dataframe tbody tr th:only-of-type {\n",
              "        vertical-align: middle;\n",
              "    }\n",
              "\n",
              "    .dataframe tbody tr th {\n",
              "        vertical-align: top;\n",
              "    }\n",
              "\n",
              "    .dataframe thead th {\n",
              "        text-align: right;\n",
              "    }\n",
              "</style>\n",
              "<table border=\"1\" class=\"dataframe\">\n",
              "  <thead>\n",
              "    <tr style=\"text-align: right;\">\n",
              "      <th></th>\n",
              "      <th>.geo</th>\n",
              "      <th>presence</th>\n",
              "      <th>classification</th>\n",
              "      <th>classification</th>\n",
              "      <th>classification</th>\n",
              "      <th>classification</th>\n",
              "    </tr>\n",
              "  </thead>\n",
              "  <tbody>\n",
              "    <tr>\n",
              "      <th>0</th>\n",
              "      <td>{\"type\":\"Point\",\"coordinates\":[89.085481531110...</td>\n",
              "      <td>0</td>\n",
              "      <td>0</td>\n",
              "      <td>0</td>\n",
              "      <td>0</td>\n",
              "      <td>0</td>\n",
              "    </tr>\n",
              "    <tr>\n",
              "      <th>1</th>\n",
              "      <td>{\"type\":\"Point\",\"coordinates\":[89.043088857395...</td>\n",
              "      <td>0</td>\n",
              "      <td>0</td>\n",
              "      <td>0</td>\n",
              "      <td>0</td>\n",
              "      <td>0</td>\n",
              "    </tr>\n",
              "    <tr>\n",
              "      <th>2</th>\n",
              "      <td>{\"type\":\"Point\",\"coordinates\":[89.064920616153...</td>\n",
              "      <td>0</td>\n",
              "      <td>0</td>\n",
              "      <td>0</td>\n",
              "      <td>0</td>\n",
              "      <td>0</td>\n",
              "    </tr>\n",
              "    <tr>\n",
              "      <th>3</th>\n",
              "      <td>{\"type\":\"Point\",\"coordinates\":[89.063377767188...</td>\n",
              "      <td>0</td>\n",
              "      <td>0</td>\n",
              "      <td>0</td>\n",
              "      <td>1</td>\n",
              "      <td>0</td>\n",
              "    </tr>\n",
              "    <tr>\n",
              "      <th>4</th>\n",
              "      <td>{\"type\":\"Point\",\"coordinates\":[88.995969536563...</td>\n",
              "      <td>0</td>\n",
              "      <td>0</td>\n",
              "      <td>0</td>\n",
              "      <td>0</td>\n",
              "      <td>0</td>\n",
              "    </tr>\n",
              "    <tr>\n",
              "      <th>...</th>\n",
              "      <td>...</td>\n",
              "      <td>...</td>\n",
              "      <td>...</td>\n",
              "      <td>...</td>\n",
              "      <td>...</td>\n",
              "      <td>...</td>\n",
              "    </tr>\n",
              "    <tr>\n",
              "      <th>287</th>\n",
              "      <td>{\"type\":\"Point\",\"coordinates\":[89.887651515120...</td>\n",
              "      <td>1</td>\n",
              "      <td>1</td>\n",
              "      <td>1</td>\n",
              "      <td>1</td>\n",
              "      <td>1</td>\n",
              "    </tr>\n",
              "    <tr>\n",
              "      <th>288</th>\n",
              "      <td>{\"type\":\"Point\",\"coordinates\":[89.971402351105...</td>\n",
              "      <td>1</td>\n",
              "      <td>1</td>\n",
              "      <td>1</td>\n",
              "      <td>1</td>\n",
              "      <td>1</td>\n",
              "    </tr>\n",
              "    <tr>\n",
              "      <th>289</th>\n",
              "      <td>{\"type\":\"Point\",\"coordinates\":[90.814003004367...</td>\n",
              "      <td>1</td>\n",
              "      <td>1</td>\n",
              "      <td>1</td>\n",
              "      <td>1</td>\n",
              "      <td>1</td>\n",
              "    </tr>\n",
              "    <tr>\n",
              "      <th>290</th>\n",
              "      <td>{\"type\":\"Point\",\"coordinates\":[90.72004528607,...</td>\n",
              "      <td>1</td>\n",
              "      <td>1</td>\n",
              "      <td>1</td>\n",
              "      <td>1</td>\n",
              "      <td>1</td>\n",
              "    </tr>\n",
              "    <tr>\n",
              "      <th>291</th>\n",
              "      <td>{\"type\":\"Point\",\"coordinates\":[90.721984995028...</td>\n",
              "      <td>1</td>\n",
              "      <td>1</td>\n",
              "      <td>1</td>\n",
              "      <td>1</td>\n",
              "      <td>1</td>\n",
              "    </tr>\n",
              "  </tbody>\n",
              "</table>\n",
              "<p>292 rows × 6 columns</p>\n",
              "</div>"
            ],
            "text/plain": [
              "                                                  .geo  ...  classification\n",
              "0    {\"type\":\"Point\",\"coordinates\":[89.085481531110...  ...               0\n",
              "1    {\"type\":\"Point\",\"coordinates\":[89.043088857395...  ...               0\n",
              "2    {\"type\":\"Point\",\"coordinates\":[89.064920616153...  ...               0\n",
              "3    {\"type\":\"Point\",\"coordinates\":[89.063377767188...  ...               0\n",
              "4    {\"type\":\"Point\",\"coordinates\":[88.995969536563...  ...               0\n",
              "..                                                 ...  ...             ...\n",
              "287  {\"type\":\"Point\",\"coordinates\":[89.887651515120...  ...               1\n",
              "288  {\"type\":\"Point\",\"coordinates\":[89.971402351105...  ...               1\n",
              "289  {\"type\":\"Point\",\"coordinates\":[90.814003004367...  ...               1\n",
              "290  {\"type\":\"Point\",\"coordinates\":[90.72004528607,...  ...               1\n",
              "291  {\"type\":\"Point\",\"coordinates\":[90.721984995028...  ...               1\n",
              "\n",
              "[292 rows x 6 columns]"
            ]
          },
          "metadata": {}
        }
      ]
    },
    {
      "cell_type": "markdown",
      "metadata": {
        "id": "wFMyKMvdgqOA"
      },
      "source": [
        "Lets look at the data graphically"
      ]
    },
    {
      "cell_type": "code",
      "metadata": {
        "id": "pmiPylj8gOf-",
        "colab": {
          "base_uri": "https://localhost:8080/",
          "height": 492
        },
        "outputId": "b87e65e8-9532-40f4-9fe1-c872d3a3b8d9"
      },
      "source": [
        "sns.pairplot(validation)\n",
        "sns.pairplot(combined_data)"
      ],
      "execution_count": null,
      "outputs": [
        {
          "output_type": "error",
          "ename": "ValueError",
          "evalue": "ignored",
          "traceback": [
            "\u001b[0;31m---------------------------------------------------------------------------\u001b[0m",
            "\u001b[0;31mValueError\u001b[0m                                Traceback (most recent call last)",
            "\u001b[0;32m<ipython-input-5-bfccb30e49c4>\u001b[0m in \u001b[0;36m<module>\u001b[0;34m()\u001b[0m\n\u001b[1;32m      1\u001b[0m \u001b[0msns\u001b[0m\u001b[0;34m.\u001b[0m\u001b[0mpairplot\u001b[0m\u001b[0;34m(\u001b[0m\u001b[0mvalidation\u001b[0m\u001b[0;34m)\u001b[0m\u001b[0;34m\u001b[0m\u001b[0;34m\u001b[0m\u001b[0m\n\u001b[0;32m----> 2\u001b[0;31m \u001b[0msns\u001b[0m\u001b[0;34m.\u001b[0m\u001b[0mpairplot\u001b[0m\u001b[0;34m(\u001b[0m\u001b[0mcombined_data\u001b[0m\u001b[0;34m)\u001b[0m\u001b[0;34m\u001b[0m\u001b[0;34m\u001b[0m\u001b[0m\n\u001b[0m",
            "\u001b[0;32m/usr/local/lib/python3.7/dist-packages/seaborn/_decorators.py\u001b[0m in \u001b[0;36minner_f\u001b[0;34m(*args, **kwargs)\u001b[0m\n\u001b[1;32m     44\u001b[0m             )\n\u001b[1;32m     45\u001b[0m         \u001b[0mkwargs\u001b[0m\u001b[0;34m.\u001b[0m\u001b[0mupdate\u001b[0m\u001b[0;34m(\u001b[0m\u001b[0;34m{\u001b[0m\u001b[0mk\u001b[0m\u001b[0;34m:\u001b[0m \u001b[0marg\u001b[0m \u001b[0;32mfor\u001b[0m \u001b[0mk\u001b[0m\u001b[0;34m,\u001b[0m \u001b[0marg\u001b[0m \u001b[0;32min\u001b[0m \u001b[0mzip\u001b[0m\u001b[0;34m(\u001b[0m\u001b[0msig\u001b[0m\u001b[0;34m.\u001b[0m\u001b[0mparameters\u001b[0m\u001b[0;34m,\u001b[0m \u001b[0margs\u001b[0m\u001b[0;34m)\u001b[0m\u001b[0;34m}\u001b[0m\u001b[0;34m)\u001b[0m\u001b[0;34m\u001b[0m\u001b[0;34m\u001b[0m\u001b[0m\n\u001b[0;32m---> 46\u001b[0;31m         \u001b[0;32mreturn\u001b[0m \u001b[0mf\u001b[0m\u001b[0;34m(\u001b[0m\u001b[0;34m**\u001b[0m\u001b[0mkwargs\u001b[0m\u001b[0;34m)\u001b[0m\u001b[0;34m\u001b[0m\u001b[0;34m\u001b[0m\u001b[0m\n\u001b[0m\u001b[1;32m     47\u001b[0m     \u001b[0;32mreturn\u001b[0m \u001b[0minner_f\u001b[0m\u001b[0;34m\u001b[0m\u001b[0;34m\u001b[0m\u001b[0m\n\u001b[1;32m     48\u001b[0m \u001b[0;34m\u001b[0m\u001b[0m\n",
            "\u001b[0;32m/usr/local/lib/python3.7/dist-packages/seaborn/axisgrid.py\u001b[0m in \u001b[0;36mpairplot\u001b[0;34m(data, hue, hue_order, palette, vars, x_vars, y_vars, kind, diag_kind, markers, height, aspect, corner, dropna, plot_kws, diag_kws, grid_kws, size)\u001b[0m\n\u001b[1;32m   2096\u001b[0m     grid = PairGrid(data, vars=vars, x_vars=x_vars, y_vars=y_vars, hue=hue,\n\u001b[1;32m   2097\u001b[0m                     \u001b[0mhue_order\u001b[0m\u001b[0;34m=\u001b[0m\u001b[0mhue_order\u001b[0m\u001b[0;34m,\u001b[0m \u001b[0mpalette\u001b[0m\u001b[0;34m=\u001b[0m\u001b[0mpalette\u001b[0m\u001b[0;34m,\u001b[0m \u001b[0mcorner\u001b[0m\u001b[0;34m=\u001b[0m\u001b[0mcorner\u001b[0m\u001b[0;34m,\u001b[0m\u001b[0;34m\u001b[0m\u001b[0;34m\u001b[0m\u001b[0m\n\u001b[0;32m-> 2098\u001b[0;31m                     height=height, aspect=aspect, dropna=dropna, **grid_kws)\n\u001b[0m\u001b[1;32m   2099\u001b[0m \u001b[0;34m\u001b[0m\u001b[0m\n\u001b[1;32m   2100\u001b[0m     \u001b[0;31m# Add the markers here as PairGrid has figured out how many levels of the\u001b[0m\u001b[0;34m\u001b[0m\u001b[0;34m\u001b[0m\u001b[0;34m\u001b[0m\u001b[0m\n",
            "\u001b[0;32m/usr/local/lib/python3.7/dist-packages/seaborn/_decorators.py\u001b[0m in \u001b[0;36minner_f\u001b[0;34m(*args, **kwargs)\u001b[0m\n\u001b[1;32m     44\u001b[0m             )\n\u001b[1;32m     45\u001b[0m         \u001b[0mkwargs\u001b[0m\u001b[0;34m.\u001b[0m\u001b[0mupdate\u001b[0m\u001b[0;34m(\u001b[0m\u001b[0;34m{\u001b[0m\u001b[0mk\u001b[0m\u001b[0;34m:\u001b[0m \u001b[0marg\u001b[0m \u001b[0;32mfor\u001b[0m \u001b[0mk\u001b[0m\u001b[0;34m,\u001b[0m \u001b[0marg\u001b[0m \u001b[0;32min\u001b[0m \u001b[0mzip\u001b[0m\u001b[0;34m(\u001b[0m\u001b[0msig\u001b[0m\u001b[0;34m.\u001b[0m\u001b[0mparameters\u001b[0m\u001b[0;34m,\u001b[0m \u001b[0margs\u001b[0m\u001b[0;34m)\u001b[0m\u001b[0;34m}\u001b[0m\u001b[0;34m)\u001b[0m\u001b[0;34m\u001b[0m\u001b[0;34m\u001b[0m\u001b[0m\n\u001b[0;32m---> 46\u001b[0;31m         \u001b[0;32mreturn\u001b[0m \u001b[0mf\u001b[0m\u001b[0;34m(\u001b[0m\u001b[0;34m**\u001b[0m\u001b[0mkwargs\u001b[0m\u001b[0;34m)\u001b[0m\u001b[0;34m\u001b[0m\u001b[0;34m\u001b[0m\u001b[0m\n\u001b[0m\u001b[1;32m     47\u001b[0m     \u001b[0;32mreturn\u001b[0m \u001b[0minner_f\u001b[0m\u001b[0;34m\u001b[0m\u001b[0;34m\u001b[0m\u001b[0m\n\u001b[1;32m     48\u001b[0m \u001b[0;34m\u001b[0m\u001b[0m\n",
            "\u001b[0;32m/usr/local/lib/python3.7/dist-packages/seaborn/axisgrid.py\u001b[0m in \u001b[0;36m__init__\u001b[0;34m(self, data, hue, hue_order, palette, hue_kws, vars, x_vars, y_vars, corner, diag_sharey, height, aspect, layout_pad, despine, dropna, size)\u001b[0m\n\u001b[1;32m   1210\u001b[0m \u001b[0;34m\u001b[0m\u001b[0m\n\u001b[1;32m   1211\u001b[0m         \u001b[0;31m# Sort out the variables that define the grid\u001b[0m\u001b[0;34m\u001b[0m\u001b[0;34m\u001b[0m\u001b[0;34m\u001b[0m\u001b[0m\n\u001b[0;32m-> 1212\u001b[0;31m         \u001b[0mnumeric_cols\u001b[0m \u001b[0;34m=\u001b[0m \u001b[0mself\u001b[0m\u001b[0;34m.\u001b[0m\u001b[0m_find_numeric_cols\u001b[0m\u001b[0;34m(\u001b[0m\u001b[0mdata\u001b[0m\u001b[0;34m)\u001b[0m\u001b[0;34m\u001b[0m\u001b[0;34m\u001b[0m\u001b[0m\n\u001b[0m\u001b[1;32m   1213\u001b[0m         \u001b[0;32mif\u001b[0m \u001b[0mhue\u001b[0m \u001b[0;32min\u001b[0m \u001b[0mnumeric_cols\u001b[0m\u001b[0;34m:\u001b[0m\u001b[0;34m\u001b[0m\u001b[0;34m\u001b[0m\u001b[0m\n\u001b[1;32m   1214\u001b[0m             \u001b[0mnumeric_cols\u001b[0m\u001b[0;34m.\u001b[0m\u001b[0mremove\u001b[0m\u001b[0;34m(\u001b[0m\u001b[0mhue\u001b[0m\u001b[0;34m)\u001b[0m\u001b[0;34m\u001b[0m\u001b[0;34m\u001b[0m\u001b[0m\n",
            "\u001b[0;32m/usr/local/lib/python3.7/dist-packages/seaborn/axisgrid.py\u001b[0m in \u001b[0;36m_find_numeric_cols\u001b[0;34m(self, data)\u001b[0m\n\u001b[1;32m   1638\u001b[0m         \u001b[0mnumeric_cols\u001b[0m \u001b[0;34m=\u001b[0m \u001b[0;34m[\u001b[0m\u001b[0;34m]\u001b[0m\u001b[0;34m\u001b[0m\u001b[0;34m\u001b[0m\u001b[0m\n\u001b[1;32m   1639\u001b[0m         \u001b[0;32mfor\u001b[0m \u001b[0mcol\u001b[0m \u001b[0;32min\u001b[0m \u001b[0mdata\u001b[0m\u001b[0;34m:\u001b[0m\u001b[0;34m\u001b[0m\u001b[0;34m\u001b[0m\u001b[0m\n\u001b[0;32m-> 1640\u001b[0;31m             \u001b[0;32mif\u001b[0m \u001b[0mvariable_type\u001b[0m\u001b[0;34m(\u001b[0m\u001b[0mdata\u001b[0m\u001b[0;34m[\u001b[0m\u001b[0mcol\u001b[0m\u001b[0;34m]\u001b[0m\u001b[0;34m)\u001b[0m \u001b[0;34m==\u001b[0m \u001b[0;34m\"numeric\"\u001b[0m\u001b[0;34m:\u001b[0m\u001b[0;34m\u001b[0m\u001b[0;34m\u001b[0m\u001b[0m\n\u001b[0m\u001b[1;32m   1641\u001b[0m                 \u001b[0mnumeric_cols\u001b[0m\u001b[0;34m.\u001b[0m\u001b[0mappend\u001b[0m\u001b[0;34m(\u001b[0m\u001b[0mcol\u001b[0m\u001b[0;34m)\u001b[0m\u001b[0;34m\u001b[0m\u001b[0;34m\u001b[0m\u001b[0m\n\u001b[1;32m   1642\u001b[0m         \u001b[0;32mreturn\u001b[0m \u001b[0mnumeric_cols\u001b[0m\u001b[0;34m\u001b[0m\u001b[0;34m\u001b[0m\u001b[0m\n",
            "\u001b[0;32m/usr/local/lib/python3.7/dist-packages/seaborn/_core.py\u001b[0m in \u001b[0;36mvariable_type\u001b[0;34m(vector, boolean_type)\u001b[0m\n\u001b[1;32m   1227\u001b[0m \u001b[0;34m\u001b[0m\u001b[0m\n\u001b[1;32m   1228\u001b[0m     \u001b[0;31m# Special-case all-na data, which is always \"numeric\"\u001b[0m\u001b[0;34m\u001b[0m\u001b[0;34m\u001b[0m\u001b[0;34m\u001b[0m\u001b[0m\n\u001b[0;32m-> 1229\u001b[0;31m     \u001b[0;32mif\u001b[0m \u001b[0mpd\u001b[0m\u001b[0;34m.\u001b[0m\u001b[0misna\u001b[0m\u001b[0;34m(\u001b[0m\u001b[0mvector\u001b[0m\u001b[0;34m)\u001b[0m\u001b[0;34m.\u001b[0m\u001b[0mall\u001b[0m\u001b[0;34m(\u001b[0m\u001b[0;34m)\u001b[0m\u001b[0;34m:\u001b[0m\u001b[0;34m\u001b[0m\u001b[0;34m\u001b[0m\u001b[0m\n\u001b[0m\u001b[1;32m   1230\u001b[0m         \u001b[0;32mreturn\u001b[0m \u001b[0;34m\"numeric\"\u001b[0m\u001b[0;34m\u001b[0m\u001b[0;34m\u001b[0m\u001b[0m\n\u001b[1;32m   1231\u001b[0m \u001b[0;34m\u001b[0m\u001b[0m\n",
            "\u001b[0;32m/usr/local/lib/python3.7/dist-packages/pandas/core/generic.py\u001b[0m in \u001b[0;36m__nonzero__\u001b[0;34m(self)\u001b[0m\n\u001b[1;32m   1328\u001b[0m     \u001b[0;32mdef\u001b[0m \u001b[0m__nonzero__\u001b[0m\u001b[0;34m(\u001b[0m\u001b[0mself\u001b[0m\u001b[0;34m)\u001b[0m\u001b[0;34m:\u001b[0m\u001b[0;34m\u001b[0m\u001b[0;34m\u001b[0m\u001b[0m\n\u001b[1;32m   1329\u001b[0m         raise ValueError(\n\u001b[0;32m-> 1330\u001b[0;31m             \u001b[0;34mf\"The truth value of a {type(self).__name__} is ambiguous. \"\u001b[0m\u001b[0;34m\u001b[0m\u001b[0;34m\u001b[0m\u001b[0m\n\u001b[0m\u001b[1;32m   1331\u001b[0m             \u001b[0;34m\"Use a.empty, a.bool(), a.item(), a.any() or a.all().\"\u001b[0m\u001b[0;34m\u001b[0m\u001b[0;34m\u001b[0m\u001b[0m\n\u001b[1;32m   1332\u001b[0m         )\n",
            "\u001b[0;31mValueError\u001b[0m: The truth value of a Series is ambiguous. Use a.empty, a.bool(), a.item(), a.any() or a.all()."
          ]
        },
        {
          "output_type": "display_data",
          "data": {
            "image/png": "[encoded data removed]",
            "text/plain": [
              "<Figure size 180x180 with 2 Axes>"
            ]
          },
          "metadata": {
            "needs_background": "light"
          }
        }
      ]
    },
    {
      "cell_type": "markdown",
      "metadata": {
        "id": "tT06aC5bhQir"
      },
      "source": [
        "# Data Flipping"
      ]
    },
    {
      "cell_type": "code",
      "metadata": {
        "id": "GeTernKRhTSU",
        "colab": {
          "base_uri": "https://localhost:8080/"
        },
        "outputId": "6240990a-2c3b-45f4-988b-961666048c95"
      },
      "source": [
        "##Flips the data through transpose and flip to rearrange the confusion matrix values:(tp, tn, fp, fn) so that it can be emplyed by the the ploting code block below\n",
        "\n",
        "RF_training_results = confusion_matrix(actual,RF_training)\n",
        "print(\"RF_training_results\",RF_training_results)\n",
        "\n",
        "RF_transposed_training = RF_training_results.transpose()\n",
        "print(\"RF_transposed_training_results\", RF_transposed_training)\n",
        "\n",
        "RF_final_training_results = np.flip(RF_transposed_training)\n",
        "print(\"RF_final_training_results\", RF_final_training_results)\n",
        "\n",
        "RF_testing_results = confusion_matrix(actual,RF_testing)\n",
        "print(\"RF_testing_results\",RF_testing_results)\n",
        "\n",
        "RF_transposed_testing = RF_testing_results.transpose()\n",
        "print(\"RF_transposed_testing_results\", RF_transposed_testing)\n",
        "\n",
        "RF_final_testing_results = np.flip(RF_transposed_testing)\n",
        "print(\"RF_final_testing_results\", RF_final_testing_results)\n",
        "\n",
        "#CART\n",
        "\n",
        "CART_training_results = confusion_matrix(actual,CART_training)\n",
        "print(\"CART_training_results\",CART_training_results)\n",
        "\n",
        "CART_transposed_training = CART_training_results.transpose()\n",
        "print(\"CART_transposed_training_results\", CART_transposed_training)\n",
        "\n",
        "CART_final_training_results = np.flip(CART_transposed_training)\n",
        "print(\"CART_final_training_results\", CART_final_training_results)\n",
        "\n",
        "CART_testing_results = confusion_matrix(actual, CART_testing)\n",
        "print(\"CART_testing_results\", CART_testing_results)\n",
        "\n",
        "CART_transposed_testing = CART_testing_results.transpose()\n",
        "print(\"CART_transposed_testing_results\", CART_transposed_testing)\n",
        "\n",
        "CART_final_testing_results = np.flip(CART_transposed_testing)\n",
        "print(\"CART_final_testing_results\", CART_final_testing_results)"
      ],
      "execution_count": null,
      "outputs": [
        {
          "output_type": "stream",
          "name": "stdout",
          "text": [
            "RF_training_results [[130   7]\n",
            " [ 17 138]]\n",
            "RF_transposed_training_results [[130  17]\n",
            " [  7 138]]\n",
            "RF_final_training_results [[138   7]\n",
            " [ 17 130]]\n",
            "RF_testing_results [[130   7]\n",
            " [  4 151]]\n",
            "RF_transposed_testing_results [[130   4]\n",
            " [  7 151]]\n",
            "RF_final_testing_results [[151   7]\n",
            " [  4 130]]\n",
            "CART_training_results [[123  14]\n",
            " [ 36 119]]\n",
            "CART_transposed_training_results [[123  36]\n",
            " [ 14 119]]\n",
            "CART_final_training_results [[119  14]\n",
            " [ 36 123]]\n",
            "CART_testing_results [[127  10]\n",
            " [ 13 142]]\n",
            "CART_transposed_testing_results [[127  13]\n",
            " [ 10 142]]\n",
            "CART_final_testing_results [[142  10]\n",
            " [ 13 127]]\n"
          ]
        }
      ]
    },
    {
      "cell_type": "markdown",
      "metadata": {
        "id": "IPoJeu32h-Zm"
      },
      "source": [
        "# Export Stats"
      ]
    },
    {
      "cell_type": "code",
      "metadata": {
        "id": "KXvU5sQ_rJV9",
        "colab": {
          "base_uri": "https://localhost:8080/",
          "height": 853
        },
        "outputId": "ec1481e7-dcf5-4c1c-a64c-cfe1cb8e7946"
      },
      "source": [
        "#displays a table of indexed by stat method/algorithm\n",
        "# stat_dict = {\"Stat_method\":  [\"Accuracy Score\", \"precision_score\", \"average_precision_score\", \"cohen_kappa_score\", \"brier_score_loss\", \"roc_auc_score\", 'f1_score' ],\n",
        "#             'Random Forest':   [accuracy_score(actual,RF_training), cohen_kappa_score(actual,RF_training), f1_score(actual,RF_training)],#precision_score(actual,RF_training),average_precision_score(actual,RF_training), cohen_kappa_score(actual,RF_training), brier_score_loss(actual,RF_training), roc_auc_score(actual,RF_training), f1_score(actual,RF_training)],\n",
        "#              #'RF_testing':   [accuracy_score(actual,RF_testing), cohen_kappa_score(actual,RF_testing), f1_score(actual,RF_testing)],#precision_score(actual,RF_testing),average_precision_score(actual,RF_testing), cohen_kappa_score(actual,RF_testing), brier_score_loss(actual,RF_testing), roc_auc_score(actual,RF_testing), f1_score(actual,RF_testing)],\n",
        "#              'CART':   [accuracy_score(actual,CART_training), cohen_kappa_score(actual,CART_training), f1_score(actual,CART_training)]} #precision_score(actual,CART_training),average_precision_score(actual,CART_training), cohen_kappa_score(actual,CART_training), brier_score_loss(actual,CART_training), roc_auc_score(actual,CART_training), f1_score(actual,CART_training)],\n",
        "#              #'CART_testing':   [accuracy_score(actual,CART_testing), precision_score(actual,CART_testing),average_precision_score(actual,CART_testing), cohen_kappa_score(actual,CART_testing), brier_score_loss(actual,CART_testing), roc_auc_score(actual,CART_testing), f1_score(actual,CART_testing)]}\n",
        "\n",
        "stat_dict = {\"Stat_method\":  [\"Accuracy Score\",  \"cohen_kappa_score\", 'f1_score' ],\n",
        "            'Random Forest':   [accuracy_score(actual,RF_training), cohen_kappa_score(actual,RF_training), f1_score(actual,RF_training)],\n",
        "             'CART':   [accuracy_score(actual,CART_training), cohen_kappa_score(actual,CART_training), f1_score(actual,CART_training)]} \n",
        "             \n",
        "stat_dict_output_df = pd.DataFrame(stat_dict)\n",
        "display(stat_dict_output_df)\n",
        "\n",
        "# In colab go to the table of contents (left panel)-> select Files (furtherst left)-> find this CSV right click and download\n",
        "stat_dict_output_df.to_csv('stat_dict_output_df.csv')\n",
        "\n",
        "\n",
        "\n",
        "print(\"-\")\n",
        "print( 'classification_report_RF_training :')\n",
        "print( classification_report(actual, RF_training) )\n",
        "print(\"-\")\n",
        "print( 'classification_report_RF_testing :')\n",
        "print( classification_report(actual, RF_testing) )\n",
        "print(\"-\")\n",
        "print( 'classification_report_CART_training :')\n",
        "print( classification_report(actual, CART_training) )\n",
        "print(\"-\")\n",
        "print( 'classification_report_CART_testing :')\n",
        "print( classification_report(actual, CART_testing) )\n"
      ],
      "execution_count": null,
      "outputs": [
        {
          "output_type": "display_data",
          "data": {
            "text/html": [
              "<div>\n",
              "<style scoped>\n",
              "    .dataframe tbody tr th:only-of-type {\n",
              "        vertical-align: middle;\n",
              "    }\n",
              "\n",
              "    .dataframe tbody tr th {\n",
              "        vertical-align: top;\n",
              "    }\n",
              "\n",
              "    .dataframe thead th {\n",
              "        text-align: right;\n",
              "    }\n",
              "</style>\n",
              "<table border=\"1\" class=\"dataframe\">\n",
              "  <thead>\n",
              "    <tr style=\"text-align: right;\">\n",
              "      <th></th>\n",
              "      <th>Stat_method</th>\n",
              "      <th>Random Forest</th>\n",
              "      <th>CART</th>\n",
              "    </tr>\n",
              "  </thead>\n",
              "  <tbody>\n",
              "    <tr>\n",
              "      <th>0</th>\n",
              "      <td>Accuracy Score</td>\n",
              "      <td>0.917808</td>\n",
              "      <td>0.828767</td>\n",
              "    </tr>\n",
              "    <tr>\n",
              "      <th>1</th>\n",
              "      <td>cohen_kappa_score</td>\n",
              "      <td>0.835686</td>\n",
              "      <td>0.659404</td>\n",
              "    </tr>\n",
              "    <tr>\n",
              "      <th>2</th>\n",
              "      <td>f1_score</td>\n",
              "      <td>0.920000</td>\n",
              "      <td>0.826389</td>\n",
              "    </tr>\n",
              "  </tbody>\n",
              "</table>\n",
              "</div>"
            ],
            "text/plain": [
              "         Stat_method  Random Forest      CART\n",
              "0     Accuracy Score       0.917808  0.828767\n",
              "1  cohen_kappa_score       0.835686  0.659404\n",
              "2           f1_score       0.920000  0.826389"
            ]
          },
          "metadata": {}
        },
        {
          "output_type": "stream",
          "name": "stdout",
          "text": [
            "-\n",
            "classification_report_RF_training :\n",
            "              precision    recall  f1-score   support\n",
            "\n",
            "           0       0.88      0.95      0.92       137\n",
            "           1       0.95      0.89      0.92       155\n",
            "\n",
            "    accuracy                           0.92       292\n",
            "   macro avg       0.92      0.92      0.92       292\n",
            "weighted avg       0.92      0.92      0.92       292\n",
            "\n",
            "-\n",
            "classification_report_RF_testing :\n",
            "              precision    recall  f1-score   support\n",
            "\n",
            "           0       0.97      0.95      0.96       137\n",
            "           1       0.96      0.97      0.96       155\n",
            "\n",
            "    accuracy                           0.96       292\n",
            "   macro avg       0.96      0.96      0.96       292\n",
            "weighted avg       0.96      0.96      0.96       292\n",
            "\n",
            "-\n",
            "classification_report_CART_training :\n",
            "              precision    recall  f1-score   support\n",
            "\n",
            "           0       0.77      0.90      0.83       137\n",
            "           1       0.89      0.77      0.83       155\n",
            "\n",
            "    accuracy                           0.83       292\n",
            "   macro avg       0.83      0.83      0.83       292\n",
            "weighted avg       0.84      0.83      0.83       292\n",
            "\n",
            "-\n",
            "classification_report_CART_testing :\n",
            "              precision    recall  f1-score   support\n",
            "\n",
            "           0       0.91      0.93      0.92       137\n",
            "           1       0.93      0.92      0.93       155\n",
            "\n",
            "    accuracy                           0.92       292\n",
            "   macro avg       0.92      0.92      0.92       292\n",
            "weighted avg       0.92      0.92      0.92       292\n",
            "\n"
          ]
        }
      ]
    },
    {
      "cell_type": "markdown",
      "metadata": {
        "id": "aYJUSaFtkCiY"
      },
      "source": [
        "# Confusion Matrix Referencing Flipped data"
      ]
    },
    {
      "cell_type": "code",
      "metadata": {
        "id": "ANyWF6uBua2x",
        "colab": {
          "base_uri": "https://localhost:8080/",
          "height": 1000
        },
        "outputId": "7a3967d6-235f-420e-d4a6-65e2b2f33bd2"
      },
      "source": [
        "#this code block produces 4 confusion matrices using plot_confusion_matrix\n",
        "\n",
        "def plot_confusion_matrix(cm, classes,\n",
        "                          normalize=False,\n",
        "                          title='Confusion matrix',\n",
        "                          cmap=plt.cm.Blues):\n",
        "    \"\"\"\n",
        "    This function prints and plots the confusion matrix.\n",
        "    Normalization can be applied by setting `normalize=True`.\n",
        "    \"\"\"\n",
        "    plt.imshow(cm, interpolation='nearest', cmap=cmap)\n",
        "    plt.title(title)\n",
        "    plt.colorbar()\n",
        "    tick_marks = np.arange(len(classes))\n",
        "    plt.xticks(tick_marks, classes, rotation=45)\n",
        "    plt.yticks(tick_marks, classes)\n",
        "\n",
        "    if normalize:\n",
        "        cm = cm.astype('float') / cm.sum(axis=1)[:, np.newaxis]\n",
        "        print(\"Normalized confusion matrix\")\n",
        "    else:\n",
        "        print('Confusion matrix, without normalization')\n",
        "\n",
        "    print(cm)\n",
        "\n",
        "    thresh = cm.max() / 2.\n",
        "    for i, j in itertools.product(range(cm.shape[0]), range(cm.shape[1])):\n",
        "        plt.text(j, i, cm[i, j],\n",
        "                 horizontalalignment=\"center\",\n",
        "                 color=\"white\" if cm[i, j] > thresh else \"black\")\n",
        "\n",
        "\n",
        "    plt.tight_layout()\n",
        "    plt.ylabel('True label')\n",
        "    plt.xlabel('Predicted label')\n",
        "\n",
        "\n",
        "#code should automatically save the plots as pngs or you can right click them and save as too.\n",
        "\n",
        "#Plot_RF_training confusion matrix\n",
        "plt.figure()\n",
        "plot_confusion_matrix(RF_training_results, classes=class_names,\n",
        "                      title= 'RF_Training data')\n",
        "\n",
        "plt.figure()\n",
        "plot_confusion_matrix(RF_testing_results, classes=class_names,\n",
        "                      title= 'RF_Testing data')\n",
        "\n",
        "#Plot_CART_training confusion matrix\n",
        "plt.figure()\n",
        "plot_confusion_matrix(CART_training_results, classes=class_names,\n",
        "                      title= 'CART_Training data')\n",
        "\n",
        "plt.figure()\n",
        "plot_confusion_matrix(CART_testing_results, classes=class_names,\n",
        "                      title= 'CART_Testing data')\n",
        "\n",
        "#fig.savefig('training_Enter_title_here')\n",
        "\n",
        "plt.savefig(\"abc.png\")\n",
        "plt.show()"
      ],
      "execution_count": null,
      "outputs": [
        {
          "output_type": "stream",
          "name": "stdout",
          "text": [
            "Confusion matrix, without normalization\n",
            "[[130   7]\n",
            " [ 17 138]]\n",
            "Confusion matrix, without normalization\n",
            "[[130   7]\n",
            " [  4 151]]\n",
            "Confusion matrix, without normalization\n",
            "[[123  14]\n",
            " [ 36 119]]\n",
            "Confusion matrix, without normalization\n",
            "[[127  10]\n",
            " [ 13 142]]\n"
          ]
        },
        {
          "output_type": "display_data",
          "data": {
            "image/png": "[encoded data removed]",
            "text/plain": [
              "<Figure size 432x288 with 2 Axes>"
            ]
          },
          "metadata": {
            "needs_background": "light"
          }
        },
        {
          "output_type": "display_data",
          "data": {
            "image/png": "[encoded data removed]",
            "text/plain": [
              "<Figure size 432x288 with 2 Axes>"
            ]
          },
          "metadata": {
            "needs_background": "light"
          }
        },
        {
          "output_type": "display_data",
          "data": {
            "image/png": "[encoded data removed]",
            "text/plain": [
              "<Figure size 432x288 with 2 Axes>"
            ]
          },
          "metadata": {
            "needs_background": "light"
          }
        },
        {
          "output_type": "display_data",
          "data": {
            "image/png": "[encoded data removed]",
            "text/plain": [
              "<Figure size 432x288 with 2 Axes>"
            ]
          },
          "metadata": {
            "needs_background": "light"
          }
        }
      ]
    },
    {
      "cell_type": "markdown",
      "metadata": {
        "id": "DKf4qnnAe-Cj"
      },
      "source": [
        "# Additional Stats print outs"
      ]
    },
    {
      "cell_type": "code",
      "metadata": {
        "id": "VIakYiU-TjPT",
        "colab": {
          "base_uri": "https://localhost:8080/"
        },
        "outputId": "97b7a6e2-a347-464e-905c-4983e83e6fc9"
      },
      "source": [
        "\n",
        "print(\"-\")\n",
        "print( 'Accuracy Score_RF_training :',accuracy_score(actual,RF_training) )\n",
        "print( 'Accuracy Score_RF_testing :',accuracy_score(actual,RF_testing) )\n",
        "\n",
        "print(\"-\")\n",
        "print('precision_score_RF_training :', precision_score(actual,RF_training))\n",
        "print('precision_score_RF_testing :', precision_score(actual,RF_testing))\n",
        "\n",
        "print(\"-\")\n",
        "print('cohen_kappa_score_RF_training :',cohen_kappa_score(actual,RF_training))\n",
        "print('cohen_kappa_score_RF_testing :',cohen_kappa_score(actual,RF_testing))\n",
        "\n",
        "print(\"-\")\n",
        "print('average_precision_score_RF_training :',average_precision_score(actual,RF_training))\n",
        "print('average_precision_score_RF_testing :',average_precision_score(actual,RF_testing))\n",
        "\n",
        "print(\"-\")\n",
        "print('f1_score_RF_training :',f1_score(actual,RF_training))\n",
        "print('f1_score_RF_testing :',f1_score(actual,RF_testing))\n",
        "\n",
        "print(\"-\")\n",
        "print('fbeta_score beta=.05_RF_training :',fbeta_score(actual,RF_training, beta=0.5))\n",
        "print('fbeta_score beta=.05_RF_testing :',fbeta_score(actual,RF_testing, beta=0.5))\n",
        "\n",
        "print(\"-\")\n",
        "print('fbeta_score beta=1_RF_training :',fbeta_score(actual,RF_training, beta=1))\n",
        "print('fbeta_score beta=1_RF_testing :',fbeta_score(actual,RF_testing, beta=1))\n",
        "\n",
        "print(\"-\")\n",
        "print('fbeta_score beta=2_RF_training :',fbeta_score(actual,RF_training, beta=2))\n",
        "print('fbeta_score beta=2_RF_testing :',fbeta_score(actual,RF_testing, beta=2))\n",
        "\n",
        "print(\"-\")\n",
        "print('roc_auc_score_RF_training :',roc_auc_score(actual,RF_training))\n",
        "print('roc_auc_score_RF_testing :',roc_auc_score(actual,RF_testing))\n",
        "\n",
        "\n",
        "print(\"-\")\n",
        "print('brier_score_loss_RF_training :',brier_score_loss(actual,RF_training))\n",
        "print('brier_score_loss_RF_testing :',brier_score_loss(actual,RF_testing))\n",
        "\n",
        "print(\"-\")\n",
        "print( 'classification_report_RF_training :')\n",
        "print( classification_report(actual,RF_training) )\n",
        "print(\"-\")\n",
        "print( 'classification_report_RF_testing :')\n",
        "print( classification_report(actual,RF_testing) )\n",
        "\n",
        "\n",
        "print(\"-\")\n",
        "print( 'Accuracy Score_CART_training :',accuracy_score(actual,CART_training) )\n",
        "print( 'Accuracy Score_CART_testing :',accuracy_score(actual,CART_testing) )\n",
        "\n",
        "print(\"-\")\n",
        "print('precision_score_CART_training :', precision_score(actual,CART_training))\n",
        "print('precision_score_CART_testing :', precision_score(actual,CART_testing))\n",
        "\n",
        "print(\"-\")\n",
        "print('cohen_kappa_score_CART_training :',cohen_kappa_score(actual,CART_training))\n",
        "print('cohen_kappa_score_CART_testing :',cohen_kappa_score(actual,CART_testing))\n",
        "\n",
        "print(\"-\")\n",
        "print('average_precision_score_CART_training :',average_precision_score(actual,CART_training))\n",
        "print('average_precision_score_CART_testing :',average_precision_score(actual,CART_testing))\n",
        "\n",
        "print(\"-\")\n",
        "print('f1_score_CART_training :',f1_score(actual,CART_training))\n",
        "print('f1_score_CART_testing :',f1_score(actual,CART_testing))\n",
        "\n",
        "print(\"-\")\n",
        "print('fbeta_score beta=.05_CART_training :',fbeta_score(actual,CART_training, beta=0.5))\n",
        "print('fbeta_score beta=.05_CART_testing :',fbeta_score(actual,CART_testing, beta=0.5))\n",
        "\n",
        "print(\"-\")\n",
        "print('fbeta_score beta=1_CART_training :',fbeta_score(actual,CART_training, beta=1))\n",
        "print('fbeta_score beta=1_CART_testing :',fbeta_score(actual,CART_testing, beta=1))\n",
        "\n",
        "print(\"-\")\n",
        "print('fbeta_score beta=2_CART_training :',fbeta_score(actual,CART_training, beta=2))\n",
        "print('fbeta_score beta=2_CART_testing :',fbeta_score(actual,CART_testing, beta=2))\n",
        "\n",
        "print(\"-\")\n",
        "print('roc_auc_score_CART_training :',roc_auc_score(actual,CART_training))\n",
        "print('roc_auc_score_CART_testing :',roc_auc_score(actual,CART_testing))\n",
        "\n",
        "\n",
        "print(\"-\")\n",
        "print('brier_score_loss_CART_training :',brier_score_loss(actual,CART_training))\n",
        "print('brier_score_loss_CART_testing :',brier_score_loss(actual,CART_testing))\n",
        "\n",
        "print(\"-\")\n",
        "print( 'classification_report_CART_training :')\n",
        "print( classification_report(actual,CART_training) )\n",
        "print(\"-\")\n",
        "print( 'classification_report_CART_testing :')\n",
        "print( classification_report(actual,CART_testing) )\n"
      ],
      "execution_count": null,
      "outputs": [
        {
          "output_type": "stream",
          "name": "stdout",
          "text": [
            "-\n",
            "Accuracy Score_RF_training : 0.9178082191780822\n",
            "Accuracy Score_RF_testing : 0.9623287671232876\n",
            "-\n",
            "precision_score_RF_training : 0.9517241379310345\n",
            "precision_score_RF_testing : 0.9556962025316456\n",
            "-\n",
            "cohen_kappa_score_RF_training : 0.835685814771395\n",
            "cohen_kappa_score_RF_testing : 0.9242738589211619\n",
            "-\n",
            "average_precision_score_RF_training : 0.9055606686272419\n",
            "average_precision_score_RF_testing : 0.9447317048613636\n",
            "-\n",
            "f1_score_RF_training : 0.9200000000000002\n",
            "f1_score_RF_testing : 0.9648562300319489\n",
            "-\n",
            "fbeta_score beta=.05_RF_training : 0.9387755102040818\n",
            "fbeta_score beta=.05_RF_testing : 0.9593392630241423\n",
            "-\n",
            "fbeta_score beta=1_RF_training : 0.9200000000000002\n",
            "fbeta_score beta=1_RF_testing : 0.9648562300319489\n",
            "-\n",
            "fbeta_score beta=2_RF_training : 0.9019607843137257\n",
            "fbeta_score beta=2_RF_testing : 0.9704370179948586\n",
            "-\n",
            "roc_auc_score_RF_training : 0.9196138450671061\n",
            "roc_auc_score_RF_testing : 0.9615493289380739\n",
            "-\n",
            "brier_score_loss_RF_training : 0.0821917808219178\n",
            "brier_score_loss_RF_testing : 0.03767123287671233\n",
            "-\n",
            "classification_report_RF_training :\n",
            "              precision    recall  f1-score   support\n",
            "\n",
            "           0       0.88      0.95      0.92       137\n",
            "           1       0.95      0.89      0.92       155\n",
            "\n",
            "    accuracy                           0.92       292\n",
            "   macro avg       0.92      0.92      0.92       292\n",
            "weighted avg       0.92      0.92      0.92       292\n",
            "\n",
            "-\n",
            "classification_report_RF_testing :\n",
            "              precision    recall  f1-score   support\n",
            "\n",
            "           0       0.97      0.95      0.96       137\n",
            "           1       0.96      0.97      0.96       155\n",
            "\n",
            "    accuracy                           0.96       292\n",
            "   macro avg       0.96      0.96      0.96       292\n",
            "weighted avg       0.96      0.96      0.96       292\n",
            "\n",
            "-\n",
            "Accuracy Score_CART_training : 0.8287671232876712\n",
            "Accuracy Score_CART_testing : 0.9212328767123288\n",
            "-\n",
            "precision_score_CART_training : 0.8947368421052632\n",
            "precision_score_CART_testing : 0.9342105263157895\n",
            "-\n",
            "cohen_kappa_score_CART_training : 0.6594037232305323\n",
            "cohen_kappa_score_CART_testing : 0.8420656570407299\n",
            "-\n",
            "average_precision_score_CART_training : 0.8102146661394981\n",
            "average_precision_score_CART_testing : 0.9003779333441868\n",
            "-\n",
            "f1_score_CART_training : 0.8263888888888888\n",
            "f1_score_CART_testing : 0.9250814332247558\n",
            "-\n",
            "fbeta_score beta=.05_CART_training : 0.8660844250363902\n",
            "fbeta_score beta=.05_CART_testing : 0.9305373525557012\n",
            "-\n",
            "fbeta_score beta=1_CART_training : 0.8263888888888888\n",
            "fbeta_score beta=1_CART_testing : 0.9250814332247558\n",
            "-\n",
            "fbeta_score beta=2_CART_training : 0.7901726427622842\n",
            "fbeta_score beta=2_CART_testing : 0.9196891191709845\n",
            "-\n",
            "roc_auc_score_CART_training : 0.8327760772309865\n",
            "roc_auc_score_CART_testing : 0.9215681657640686\n",
            "-\n",
            "brier_score_loss_CART_training : 0.17123287671232876\n",
            "brier_score_loss_CART_testing : 0.07876712328767123\n",
            "-\n",
            "classification_report_CART_training :\n",
            "              precision    recall  f1-score   support\n",
            "\n",
            "           0       0.77      0.90      0.83       137\n",
            "           1       0.89      0.77      0.83       155\n",
            "\n",
            "    accuracy                           0.83       292\n",
            "   macro avg       0.83      0.83      0.83       292\n",
            "weighted avg       0.84      0.83      0.83       292\n",
            "\n",
            "-\n",
            "classification_report_CART_testing :\n",
            "              precision    recall  f1-score   support\n",
            "\n",
            "           0       0.91      0.93      0.92       137\n",
            "           1       0.93      0.92      0.93       155\n",
            "\n",
            "    accuracy                           0.92       292\n",
            "   macro avg       0.92      0.92      0.92       292\n",
            "weighted avg       0.92      0.92      0.92       292\n",
            "\n"
          ]
        }
      ]
    }
  ]
}