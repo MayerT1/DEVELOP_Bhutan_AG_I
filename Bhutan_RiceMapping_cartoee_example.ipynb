{
  "nbformat": 4,
  "nbformat_minor": 0,
  "metadata": {
    "colab": {
      "name": "Bhutan_RiceMapping_cartoee_example.ipynb",
      "private_outputs": true,
      "provenance": [],
      "collapsed_sections": [],
      "include_colab_link": true
    },
    "kernelspec": {
      "name": "python3",
      "display_name": "Python 3"
    }
  },
  "cells": [
    {
      "cell_type": "markdown",
      "metadata": {
        "id": "view-in-github",
        "colab_type": "text"
      },
      "source": [
        "<a href=\"https://colab.research.google.com/github/MayerT1/DEVELOP_Bhutan_AG_I/blob/main/Bhutan_RiceMapping_cartoee_example.ipynb\" target=\"_parent\"><img src=\"https://colab.research.google.com/assets/colab-badge.svg\" alt=\"Open In Colab\"/></a>"
      ]
    },
    {
      "cell_type": "code",
      "metadata": {
        "id": "CAGbJxm5FqyN"
      },
      "source": [
        "# mount the google drive so that we can save credentials\n",
        "from google.colab import drive\n",
        "drive.mount('/content/drive')"
      ],
      "execution_count": null,
      "outputs": []
    },
    {
      "cell_type": "code",
      "metadata": {
        "id": "dnOjYtZ4Gt0m"
      },
      "source": [
        "! sudo add-apt-repository -y ppa:ubuntugis/ubuntugis-unstable\n",
        "! sudo apt-get update\n",
        "! sudo apt-get install libudunits2-dev libgdal-dev libgeos-dev libproj-dev\n",
        "! sudo apt-get install libprotobuf-dev protobuf-compiler libv8-dev libjq-dev"
      ],
      "execution_count": null,
      "outputs": []
    },
    {
      "cell_type": "code",
      "metadata": {
        "id": "HnzE6eodFkxx"
      },
      "source": [
        "# install the packages needed \n",
        "!pip install geemap cartopy"
      ],
      "execution_count": null,
      "outputs": []
    },
    {
      "cell_type": "code",
      "metadata": {
        "id": "Ssa7wyR_F03u"
      },
      "source": [
        "%pylab inline"
      ],
      "execution_count": null,
      "outputs": []
    },
    {
      "cell_type": "code",
      "metadata": {
        "id": "kgF8bfBvFntb"
      },
      "source": [
        "import ee\n",
        "import geemap.eefolium as geemap\n",
        "from geemap import cartoee\n",
        "import cartopy.crs as ccrs"
      ],
      "execution_count": null,
      "outputs": []
    },
    {
      "cell_type": "code",
      "metadata": {
        "id": "SKefxwJ2h8m6"
      },
      "source": [
        "\n",
        "import os, sys\n",
        "from google.colab import drive\n",
        "drive.mount('/content/mnt')\n",
        "nb_path = '/content/notebooks'\n",
        "#create a symbolic link for pointing to /content/mnt/My Drive/Colab Notebooks\n",
        "os.symlink('/content/mnt/My Drive/Colab Notebooks', nb_path)\n",
        "sys.path.insert(0, nb_path)"
      ],
      "execution_count": null,
      "outputs": []
    },
    {
      "cell_type": "code",
      "metadata": {
        "id": "TOkte2CCF2tg"
      },
      "source": [
        "# initial authentication workflow\n",
        "# it will ask to authenticate if no credentials are available\n",
        "# will also initialize ee session\n",
        "_ = geemap.Map()"
      ],
      "execution_count": null,
      "outputs": []
    },
    {
      "cell_type": "code",
      "metadata": {
        "id": "L7YFFD9SZX07"
      },
      "source": [
        "import seaborn as sns\n",
        "sns.set_theme(style=\"white\")"
      ],
      "execution_count": null,
      "outputs": []
    },
    {
      "cell_type": "markdown",
      "metadata": {
        "id": "YLFAJGeJR0C7"
      },
      "source": [
        "# Bhutan Rice Mapping"
      ]
    },
    {
      "cell_type": "markdown",
      "metadata": {
        "id": "oav8wszZ23eP"
      },
      "source": [
        "Hello there....\n",
        "I am a script that uses pandas and seaborn to investigate a feature collection of rice points and imagery specifically for Bhutan Rice Mapping\n",
        "\n",
        "From the [GEE code](https://code.earthengine.google.com/5c43a724b296f273ec129b8cdb69693d) I use the exported values (reduce regions) (.csv) and look to plot those rice points and all the avaliable imagery to try and under stand the rice \"niche\""
      ]
    },
    {
      "cell_type": "code",
      "metadata": {
        "id": "WwRa08pIiQ1l"
      },
      "source": [
        "!ls"
      ],
      "execution_count": null,
      "outputs": []
    },
    {
      "cell_type": "markdown",
      "metadata": {
        "id": "IgTz1FWm2-d5"
      },
      "source": [
        "You will have to fine where your \"extracted\" rice data lives. Where in GDrive it is then  you can use for this analysis"
      ]
    },
    {
      "cell_type": "code",
      "metadata": {
        "id": "Sg2vsmp1iC4b"
      },
      "source": [
        "%cd /content/mnt/MyDrive/\n",
        "!ls\n"
      ],
      "execution_count": null,
      "outputs": []
    },
    {
      "cell_type": "markdown",
      "metadata": {
        "id": "LHsjIU5z_T9Z"
      },
      "source": [
        "# Lets try some simple data first"
      ]
    },
    {
      "cell_type": "code",
      "metadata": {
        "id": "-CyFBlh4-v1Z"
      },
      "source": [
        "df_simple = pd.read_csv('values_4.csv') \n",
        "df_simple"
      ],
      "execution_count": null,
      "outputs": []
    },
    {
      "cell_type": "code",
      "metadata": {
        "id": "S784Eexd-0uz"
      },
      "source": [
        "g = sns.pairplot(df_simple, diag_kind=\"kde\")\n",
        "g.map_lower(sns.kdeplot, levels=4, color=\".2\")"
      ],
      "execution_count": null,
      "outputs": []
    },
    {
      "cell_type": "markdown",
      "metadata": {
        "id": "Xe0YpF1A_wWh"
      },
      "source": [
        "## SAR Big Data"
      ]
    },
    {
      "cell_type": "markdown",
      "metadata": {
        "id": "h2pddUE594Jl"
      },
      "source": [
        "All the responses (as of 10/15 5pm): “elevation” “slope” \"NDVI\", \"NDWI\", \"SAVI\", \"NDMI\", \"ascChangeVV\", \"descChangeVV\", \"descChangeVH\", \"ascChangeVH\", \"brightness\", \"greenness\", \"wetness\", \"ascChangeVV_asm\", \"ascChangeVV_contrast\", \"ascChangeVV_corr\", \"ascChangeVV_var\", \"ascChangeVV_idm\", \"ascChangeVV_savg\", \"ascChangeVV_svar\", \"ascChangeVV_sent\", \"ascChangeVV_ent\", \"ascChangeVV_dvar\", \"ascChangeVV_dent\", \"ascChangeVV_imcorr1\", \"ascChangeVV_imcorr2\", \"ascChangeVV_maxcorr\", \"ascChangeVV_diss\", \"ascChangeVV_inertia\", \"ascChangeVV_shade\", \"ascChangeVV_prom\", \"descChangeVV_asm\", \"descChangeVV_contrast\", \"descChangeVV_corr\", \"descChangeVV_var\", \"descChangeVV_idm\", \"descChangeVV_savg\", \"descChangeVV_svar\", \"descChangeVV_sent\", \"descChangeVV_ent\", \"descChangeVV_dvar\", \"descChangeVV_dent\", \"descChangeVV_imcorr1\", \"descChangeVV_imcorr2\", \"descChangeVV_maxcorr\", \"descChangeVV_diss\", \"descChangeVV_inertia\", \"descChangeVV_shade\", \"descChangeVV_prom\", \"descChangeVH_asm\", \"descChangeVH_contrast\", \"descChangeVH_corr\", \"descChangeVH_var\", \"descChangeVH_idm\", \"descChangeVH_savg\", \"descChangeVH_svar\", \"descChangeVH_sent\", \"descChangeVH_ent\", \"descChangeVH_dvar\", \"descChangeVH_dent\", \"descChangeVH_imcorr1\", \"descChangeVH_imcorr2\", \"descChangeVH_maxcorr\", \"descChangeVH_diss\", \"descChangeVH_inertia\", \"descChangeVH_shade\", \"descChangeVH_prom\", \"ascChangeVH_asm\", \"ascChangeVH_contrast\", \"ascChangeVH_corr\", \"ascChangeVH_var\", \"ascChangeVH_idm\", \"ascChangeVH_savg\", \"ascChangeVH_svar\", \"ascChangeVH_sent\", \"ascChangeVH_ent\", \"ascChangeVH_dvar\", \"ascChangeVH_dent\", \"ascChangeVH_imcorr1\", \"ascChangeVH_imcorr2\", \"ascChangeVH_maxcorr\", \"ascChangeVH_diss\", \"ascChangeVH_inertia\", \"ascChangeVH_shade\", \"ascChangeVH_prom\", \"VV\", \"VH\", \"angle\","
      ]
    },
    {
      "cell_type": "code",
      "metadata": {
        "id": "rhfZicZUizsb"
      },
      "source": [
        "df = pd.read_csv('values_5.csv') \n",
        "df "
      ],
      "execution_count": null,
      "outputs": []
    },
    {
      "cell_type": "markdown",
      "metadata": {
        "id": "xFw3W3_zZEtv"
      },
      "source": [
        "Chart\n",
        "https://seaborn.pydata.org/generated/seaborn.pairplot.html?highlight=pairplot#seaborn.pairplot"
      ]
    },
    {
      "cell_type": "code",
      "metadata": {
        "id": "B-iC2URjZEM6"
      },
      "source": [
        "import seaborn as sns\n",
        "sns.set_theme(style=\"white\")\n",
        "\n",
        "# # Load the example mpg dataset\n",
        "# mpg = sns.load_dataset(\"mpg\")\n",
        "\n",
        "# Plot miles per gallon against horsepower with other semantics\n",
        "sns.relplot(x=\"slope\", y=\"NDVI\", hue=\"presence\",\n",
        "            sizes=(40, 400), alpha=.5, palette=\"muted\",\n",
        "            height=6, data=df)"
      ],
      "execution_count": null,
      "outputs": []
    },
    {
      "cell_type": "code",
      "metadata": {
        "id": "Du3RowvC7zyI"
      },
      "source": [
        "sns.pairplot(\n",
        "    df,diag_kind=\"kde\",\n",
        "    x_vars=[\"VV\", \"VH\", \"angle\"],\n",
        "    y_vars=[\"ascChangeVV\",\"descChangeVV\",\"descChangeVH\",\"ascChangeVH\"],hue=\"presence\"\n",
        ")"
      ],
      "execution_count": null,
      "outputs": []
    },
    {
      "cell_type": "code",
      "metadata": {
        "id": "sk7FHcZX6-B9"
      },
      "source": [
        "sns.pairplot(\n",
        "    df,diag_kind=\"kde\",\n",
        "    x_vars=[\"NDMI\", \"NDVI\", \"NDWI\",\"SAVI\", \"greenness\",\t\"brightness\",\t\"wetness\",\"elevation\",\"slope\"],\n",
        "    y_vars=[\"elevation\",\"slope\",\"NDWI\"],hue=\"presence\"\n",
        ")"
      ],
      "execution_count": null,
      "outputs": []
    },
    {
      "cell_type": "code",
      "metadata": {
        "id": "1L2UsDs19yRK"
      },
      "source": [
        "# sns.pairplot(\n",
        "#     df,diag_kind=\"kde\",\n",
        "#     x_vars=[\"ascChangeVV_asm\", \n",
        "# \"ascChangeVV_contrast\", \n",
        "# \"ascChangeVV_corr\", \n",
        "# \"ascChangeVV_var\", \n",
        "# \"ascChangeVV_idm\", \n",
        "# \"ascChangeVV_savg\", \n",
        "# \"ascChangeVV_svar\", \n",
        "# \"ascChangeVV_sent\", \n",
        "# \"ascChangeVV_ent\", \n",
        "# \"ascChangeVV_dvar\", \n",
        "# \"ascChangeVV_dent\", \n",
        "# \"ascChangeVV_imcorr1\", \n",
        "# \"ascChangeVV_imcorr2\", \n",
        "# \"ascChangeVV_maxcorr\", \n",
        "# \"ascChangeVV_diss\", \n",
        "# \"ascChangeVV_inertia\", \n",
        "# \"ascChangeVV_shade\", \n",
        "# \"ascChangeVV_prom\", \n",
        "# \"descChangeVV_asm\", \n",
        "# \"descChangeVV_contrast\", \n",
        "# \"descChangeVV_corr\", \n",
        "# \"descChangeVV_var\", \n",
        "# \"descChangeVV_idm\", \n",
        "# \"descChangeVV_savg\", \n",
        "# \"descChangeVV_svar\", \n",
        "# \"descChangeVV_sent\", \n",
        "# \"descChangeVV_ent\", \n",
        "# \"descChangeVV_dvar\", \n",
        "# \"descChangeVV_dent\", \n",
        "# \"descChangeVV_imcorr1\", \n",
        "# \"descChangeVV_imcorr2\", \n",
        "# \"descChangeVV_maxcorr\", \n",
        "# \"descChangeVV_diss\", \n",
        "# \"descChangeVV_inertia\", ],\n",
        "\n",
        "#     y_vars=[\"descChangeVV_shade\", \n",
        "# \"descChangeVV_prom\", \n",
        "# \"descChangeVH_asm\", \n",
        "# \"descChangeVH_contrast\", \n",
        "# \"descChangeVH_corr\", \n",
        "# \"descChangeVH_var\", \n",
        "# \"descChangeVH_idm\", \n",
        "# \"descChangeVH_savg\", \n",
        "# \"descChangeVH_svar\", \n",
        "# \"descChangeVH_sent\", \n",
        "# \"descChangeVH_ent\", \n",
        "# \"descChangeVH_dvar\", \n",
        "# \"descChangeVH_dent\", \n",
        "# \"descChangeVH_imcorr1\", \n",
        "# \"descChangeVH_imcorr2\", \n",
        "# \"descChangeVH_maxcorr\", \n",
        "# \"descChangeVH_diss\", \n",
        "# \"descChangeVH_inertia\", \n",
        "# \"descChangeVH_shade\", \n",
        "# \"descChangeVH_prom\", \n",
        "# \"ascChangeVH_asm\", \n",
        "# \"ascChangeVH_contrast\", \n",
        "# \"ascChangeVH_corr\", \n",
        "# \"ascChangeVH_var\", \n",
        "# \"ascChangeVH_idm\", \n",
        "# \"ascChangeVH_savg\", \n",
        "# \"ascChangeVH_svar\", \n",
        "# \"ascChangeVH_sent\", \n",
        "# \"ascChangeVH_ent\", \n",
        "# \"ascChangeVH_dvar\", \n",
        "# \"ascChangeVH_dent\", \n",
        "# \"ascChangeVH_imcorr1\", \n",
        "# \"ascChangeVH_imcorr2\", \n",
        "# \"ascChangeVH_maxcorr\", \n",
        "# \"ascChangeVH_diss\", \n",
        "# \"ascChangeVH_inertia\", \n",
        "# \"ascChangeVH_shade\", \n",
        "# \"ascChangeVH_prom\" ],hue=\"presence\"\n",
        "# )\n"
      ],
      "execution_count": null,
      "outputs": []
    }
  ]
}