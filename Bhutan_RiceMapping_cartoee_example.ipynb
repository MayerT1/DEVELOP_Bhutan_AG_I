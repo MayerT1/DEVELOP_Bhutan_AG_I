{
  "nbformat": 4,
  "nbformat_minor": 0,
  "metadata": {
    "colab": {
      "name": "Bhutan_RiceMapping_cartoee_example.ipynb",
      "private_outputs": true,
      "provenance": [],
      "collapsed_sections": [],
      "include_colab_link": true
    },
    "kernelspec": {
      "name": "python3",
      "display_name": "Python 3"
    }
  },
  "cells": [
    {
      "cell_type": "markdown",
      "metadata": {
        "id": "view-in-github",
        "colab_type": "text"
      },
      "source": [
        "<a href=\"https://colab.research.google.com/github/MayerT1/DEVELOP_Bhutan_AG_I/blob/main/Bhutan_RiceMapping_cartoee_example.ipynb\" target=\"_parent\"><img src=\"https://colab.research.google.com/assets/colab-badge.svg\" alt=\"Open In Colab\"/></a>"
      ]
    },
    {
      "cell_type": "code",
      "metadata": {
        "id": "CAGbJxm5FqyN"
      },
      "source": [
        "# mount the google drive so that we can save credentials\n",
        "from google.colab import drive\n",
        "drive.mount('/content/drive')"
      ],
      "execution_count": null,
      "outputs": []
    },
    {
      "cell_type": "code",
      "metadata": {
        "id": "dnOjYtZ4Gt0m"
      },
      "source": [
        "! sudo add-apt-repository -y ppa:ubuntugis/ubuntugis-unstable\n",
        "! sudo apt-get update\n",
        "! sudo apt-get install libudunits2-dev libgdal-dev libgeos-dev libproj-dev\n",
        "! sudo apt-get install libprotobuf-dev protobuf-compiler libv8-dev libjq-dev"
      ],
      "execution_count": null,
      "outputs": []
    },
    {
      "cell_type": "code",
      "metadata": {
        "id": "HnzE6eodFkxx"
      },
      "source": [
        "# install the packages needed \n",
        "!pip install geemap cartopy"
      ],
      "execution_count": null,
      "outputs": []
    },
    {
      "cell_type": "code",
      "metadata": {
        "id": "Ssa7wyR_F03u"
      },
      "source": [
        "%pylab inline"
      ],
      "execution_count": null,
      "outputs": []
    },
    {
      "cell_type": "code",
      "metadata": {
        "id": "kgF8bfBvFntb"
      },
      "source": [
        "import ee\n",
        "import geemap.eefolium as geemap\n",
        "from geemap import cartoee\n",
        "import cartopy.crs as ccrs"
      ],
      "execution_count": null,
      "outputs": []
    },
    {
      "cell_type": "code",
      "metadata": {
        "id": "SKefxwJ2h8m6"
      },
      "source": [
        "\n",
        "import os, sys\n",
        "from google.colab import drive\n",
        "drive.mount('/content/mnt')\n",
        "nb_path = '/content/notebooks'\n",
        "#create a symbolic link for pointing to /content/mnt/My Drive/Colab Notebooks\n",
        "os.symlink('/content/mnt/My Drive/Colab Notebooks', nb_path)\n",
        "sys.path.insert(0, nb_path)"
      ],
      "execution_count": null,
      "outputs": []
    },
    {
      "cell_type": "code",
      "metadata": {
        "id": "TOkte2CCF2tg"
      },
      "source": [
        "# initial authentication workflow\n",
        "# it will ask to authenticate if no credentials are available\n",
        "# will also initialize ee session\n",
        "_ = geemap.Map()"
      ],
      "execution_count": null,
      "outputs": []
    },
    {
      "cell_type": "markdown",
      "metadata": {
        "id": "YLFAJGeJR0C7"
      },
      "source": [
        "# Bhutan Rice Mapping"
      ]
    },
    {
      "cell_type": "code",
      "metadata": {
        "id": "WwRa08pIiQ1l"
      },
      "source": [
        "!ls"
      ],
      "execution_count": null,
      "outputs": []
    },
    {
      "cell_type": "code",
      "metadata": {
        "id": "Sg2vsmp1iC4b"
      },
      "source": [
        "%cd /content/mnt/MyDrive/\n",
        "!ls\n",
        "\n",
        "#/content/mnt/MyDrive/values.csv"
      ],
      "execution_count": null,
      "outputs": []
    },
    {
      "cell_type": "code",
      "metadata": {
        "id": "rhfZicZUizsb"
      },
      "source": [
        "df = pd.read_csv('values_4.csv') \n",
        "df "
      ],
      "execution_count": null,
      "outputs": []
    },
    {
      "cell_type": "markdown",
      "metadata": {
        "id": "6pKHBQzUZqZ8"
      },
      "source": [
        "Sample/Extract"
      ]
    },
    {
      "cell_type": "markdown",
      "metadata": {
        "id": "xFw3W3_zZEtv"
      },
      "source": [
        "Chart"
      ]
    },
    {
      "cell_type": "code",
      "metadata": {
        "id": "L7YFFD9SZX07"
      },
      "source": [
        "import seaborn as sns\n",
        "sns.set_theme(style=\"white\")"
      ],
      "execution_count": null,
      "outputs": []
    },
    {
      "cell_type": "code",
      "metadata": {
        "id": "B-iC2URjZEM6"
      },
      "source": [
        "import seaborn as sns\n",
        "sns.set_theme(style=\"white\")\n",
        "\n",
        "# # Load the example mpg dataset\n",
        "# mpg = sns.load_dataset(\"mpg\")\n",
        "\n",
        "# Plot miles per gallon against horsepower with other semantics\n",
        "sns.relplot(x=\"slope\", y=\"NDVI\", hue=\"presence\",\n",
        "            sizes=(40, 400), alpha=.5, palette=\"muted\",\n",
        "            height=6, data=df)"
      ],
      "execution_count": null,
      "outputs": []
    },
    {
      "cell_type": "markdown",
      "metadata": {
        "id": "pJHJWN0oYmqX"
      },
      "source": [
        ""
      ]
    },
    {
      "cell_type": "code",
      "metadata": {
        "id": "0GEHP0-dj7IC"
      },
      "source": [
        "#penguins = sns.load_dataset(\"penguins\")\n",
        "#sns.pairplot(df)\n",
        "sns.pairplot(df, hue=\"presence\")"
      ],
      "execution_count": null,
      "outputs": []
    }
  ]
}