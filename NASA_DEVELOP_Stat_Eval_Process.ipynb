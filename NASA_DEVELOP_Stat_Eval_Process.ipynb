{
  "nbformat": 4,
  "nbformat_minor": 0,
  "metadata": {
    "colab": {
      "name": "NASA_DEVELOP_Stat_Eval_Process.ipynb",
      "provenance": [],
      "collapsed_sections": [
        "tT06aC5bhQir",
        "IPoJeu32h-Zm",
        "DKf4qnnAe-Cj"
      ],
      "toc_visible": true,
      "mount_file_id": "15jJvtWgcVW3IeXEMK6AXDsIuaqKJPKrm",
      "authorship_tag": "ABX9TyPwmzBB/SX/LcnvJPs9LKck",
      "include_colab_link": true
    },
    "kernelspec": {
      "name": "python3",
      "display_name": "Python 3"
    }
  },
  "cells": [
    {
      "cell_type": "markdown",
      "metadata": {
        "id": "view-in-github",
        "colab_type": "text"
      },
      "source": [
        "<a href=\"https://colab.research.google.com/github/MayerT1/DEVELOP_Bhutan_AG_I/blob/main/NASA_DEVELOP_Stat_Eval_Process.ipynb\" target=\"_parent\"><img src=\"https://colab.research.google.com/assets/colab-badge.svg\" alt=\"Open In Colab\"/></a>"
      ]
    },
    {
      "cell_type": "markdown",
      "metadata": {
        "id": "ws5AzDiNgdWh"
      },
      "source": [
        "# Hello Welcome Team\n",
        "This is a COLAB to learn more see these links [Video 1](https://www.youtube.com/watch?v=inN8seMm7UI&feature=youtu.be) | [Video 2](https://www.youtube.com/watch?v=i-HnvsehuSw) | [Example Colab](https://colab.research.google.com/notebooks/intro.ipynb)\n",
        "\n",
        "In short we are using a Virtual Machine (VM) with Python to look at your data in more detail"
      ]
    },
    {
      "cell_type": "markdown",
      "metadata": {
        "id": "G7QkwuIhfFB1"
      },
      "source": [
        "# Setup"
      ]
    },
    {
      "cell_type": "code",
      "metadata": {
        "id": "ad6x0YHjEzpY",
        "colab": {
          "base_uri": "https://localhost:8080/"
        },
        "outputId": "e2661bd5-16e4-4e31-9c22-c20d4e2345d5"
      },
      "source": [
        "import os, sys\n",
        "from google.colab import drive\n",
        "drive.mount('/content/mnt')\n",
        "nb_path = '/content/notebooks'\n",
        "#create a symbolic link for pointing to /content/mnt/My Drive/Colab Notebooks\n",
        "os.symlink('/content/mnt/My Drive/Colab Notebooks', nb_path)\n",
        "sys.path.insert(0, nb_path) "
      ],
      "execution_count": null,
      "outputs": [
        {
          "output_type": "stream",
          "name": "stdout",
          "text": [
            "Mounted at /content/mnt\n"
          ]
        }
      ]
    },
    {
      "cell_type": "code",
      "metadata": {
        "id": "JXzTeyR1HdD4"
      },
      "source": [
        "%cd /content/notebooks/\n",
        "!ls"
      ],
      "execution_count": null,
      "outputs": []
    },
    {
      "cell_type": "code",
      "metadata": {
        "id": "Ye_KXmRiE18-"
      },
      "source": [
        "from sklearn import metrics\n",
        "from sklearn.metrics import confusion_matrix \n",
        "from sklearn.metrics import accuracy_score \n",
        "from sklearn.metrics import classification_report \n",
        "from sklearn.metrics import cohen_kappa_score\n",
        "from sklearn.metrics import average_precision_score\n",
        "from sklearn.metrics import f1_score\n",
        "from sklearn.metrics import precision_score\n",
        "from sklearn.metrics import fbeta_score\n",
        "from sklearn.metrics import precision_recall_fscore_support\n",
        "from sklearn.metrics import roc_auc_score\n",
        "from sklearn.metrics import roc_curve\n",
        "from sklearn.metrics import brier_score_loss\n",
        "from google.colab import files\n",
        "\n",
        "import seaborn as sns\n",
        "sns.set_theme(style=\"white\")\n",
        "\n",
        "import pandas as pd\n",
        "import numpy as np\n",
        "#from sklearn.metrics import plot_confusion_matrix\n",
        "from mlxtend.plotting import plot_confusion_matrix\n",
        "import matplotlib.pyplot as plt\n",
        "import itertools\n",
        "%matplotlib inline"
      ],
      "execution_count": null,
      "outputs": []
    },
    {
      "cell_type": "code",
      "metadata": {
        "id": "MT2UBY7fVop1",
        "colab": {
          "base_uri": "https://localhost:8080/",
          "height": 414
        },
        "outputId": "c87012b7-376c-4474-b5c0-47b0de75c220"
      },
      "source": [
        "\n",
        "#mydataset = pd.read_csv('Sample_Points_CSV_Mya2019_4_9.csv')\n",
        "#mydataset = pd.read_csv('Sample_Points_CSV_Cam2019_4_9.csv')\n",
        "#mydataset = pd.read_csv('Sample_Points_CSV_Cam2018_4_9.csv')\n",
        "mydataset = pd.read_csv('Sample_Points_CSV_all_4_9.csv')   #< this is command line to get to where your data located, use the folder icon on the left panel to understand how to navigate with in the G Drive\n",
        "\n",
        "display(mydataset)\n",
        "\n",
        "actual = mydataset['WaterPlane']\n",
        "bmaxGeeGrd = mydataset['bmaxGeeGrd']\n",
        "bmaxSnapRtc = mydataset['bmaxSnapRtc']\n",
        "edgeGeeGrd = mydataset['edgeGeeGrd']\n",
        "edgeSnapRtc = mydataset['edgeSnapRtc']\n",
        "\n",
        "\n",
        "##Class names for binary analysis\n",
        "class_names = ['Water', 'Not Water']"
      ],
      "execution_count": null,
      "outputs": [
        {
          "output_type": "display_data",
          "data": {
            "text/html": [
              "<div>\n",
              "<style scoped>\n",
              "    .dataframe tbody tr th:only-of-type {\n",
              "        vertical-align: middle;\n",
              "    }\n",
              "\n",
              "    .dataframe tbody tr th {\n",
              "        vertical-align: top;\n",
              "    }\n",
              "\n",
              "    .dataframe thead th {\n",
              "        text-align: right;\n",
              "    }\n",
              "</style>\n",
              "<table border=\"1\" class=\"dataframe\">\n",
              "  <thead>\n",
              "    <tr style=\"text-align: right;\">\n",
              "      <th></th>\n",
              "      <th>system:index</th>\n",
              "      <th>Date_str</th>\n",
              "      <th>WaterPlane</th>\n",
              "      <th>bmaxGeeGrd</th>\n",
              "      <th>bmaxSnapRtc</th>\n",
              "      <th>edgeGeeGrd</th>\n",
              "      <th>edgeSnapRtc</th>\n",
              "      <th>latitude_209564535</th>\n",
              "      <th>lc</th>\n",
              "      <th>longitude_209564535</th>\n",
              "      <th>.geo</th>\n",
              "    </tr>\n",
              "  </thead>\n",
              "  <tbody>\n",
              "    <tr>\n",
              "      <th>0</th>\n",
              "      <td>0_1_1_00000000000000000000_0</td>\n",
              "      <td>2018-01-04</td>\n",
              "      <td>0</td>\n",
              "      <td>0</td>\n",
              "      <td>0</td>\n",
              "      <td>0</td>\n",
              "      <td>0</td>\n",
              "      <td>NaN</td>\n",
              "      <td>7</td>\n",
              "      <td>NaN</td>\n",
              "      <td>{\"geodesic\":false,\"type\":\"Point\",\"coordinates\"...</td>\n",
              "    </tr>\n",
              "    <tr>\n",
              "      <th>1</th>\n",
              "      <td>0_1_1_00000000000000000001_0</td>\n",
              "      <td>2018-01-04</td>\n",
              "      <td>0</td>\n",
              "      <td>0</td>\n",
              "      <td>0</td>\n",
              "      <td>0</td>\n",
              "      <td>0</td>\n",
              "      <td>NaN</td>\n",
              "      <td>6</td>\n",
              "      <td>NaN</td>\n",
              "      <td>{\"geodesic\":false,\"type\":\"Point\",\"coordinates\"...</td>\n",
              "    </tr>\n",
              "    <tr>\n",
              "      <th>2</th>\n",
              "      <td>0_1_1_00000000000000000002_0</td>\n",
              "      <td>2018-01-04</td>\n",
              "      <td>0</td>\n",
              "      <td>0</td>\n",
              "      <td>0</td>\n",
              "      <td>0</td>\n",
              "      <td>0</td>\n",
              "      <td>NaN</td>\n",
              "      <td>7</td>\n",
              "      <td>NaN</td>\n",
              "      <td>{\"geodesic\":false,\"type\":\"Point\",\"coordinates\"...</td>\n",
              "    </tr>\n",
              "    <tr>\n",
              "      <th>3</th>\n",
              "      <td>0_1_1_00000000000000000003_0</td>\n",
              "      <td>2018-01-04</td>\n",
              "      <td>0</td>\n",
              "      <td>0</td>\n",
              "      <td>0</td>\n",
              "      <td>0</td>\n",
              "      <td>0</td>\n",
              "      <td>NaN</td>\n",
              "      <td>7</td>\n",
              "      <td>NaN</td>\n",
              "      <td>{\"geodesic\":false,\"type\":\"Point\",\"coordinates\"...</td>\n",
              "    </tr>\n",
              "    <tr>\n",
              "      <th>4</th>\n",
              "      <td>0_1_1_00000000000000000004_0</td>\n",
              "      <td>2018-01-04</td>\n",
              "      <td>0</td>\n",
              "      <td>0</td>\n",
              "      <td>0</td>\n",
              "      <td>0</td>\n",
              "      <td>0</td>\n",
              "      <td>NaN</td>\n",
              "      <td>5</td>\n",
              "      <td>NaN</td>\n",
              "      <td>{\"geodesic\":false,\"type\":\"Point\",\"coordinates\"...</td>\n",
              "    </tr>\n",
              "    <tr>\n",
              "      <th>...</th>\n",
              "      <td>...</td>\n",
              "      <td>...</td>\n",
              "      <td>...</td>\n",
              "      <td>...</td>\n",
              "      <td>...</td>\n",
              "      <td>...</td>\n",
              "      <td>...</td>\n",
              "      <td>...</td>\n",
              "      <td>...</td>\n",
              "      <td>...</td>\n",
              "      <td>...</td>\n",
              "    </tr>\n",
              "    <tr>\n",
              "      <th>3166</th>\n",
              "      <td>22_2_00000000000000000376_0</td>\n",
              "      <td>2019-08-05</td>\n",
              "      <td>1</td>\n",
              "      <td>1</td>\n",
              "      <td>1</td>\n",
              "      <td>1</td>\n",
              "      <td>1</td>\n",
              "      <td>NaN</td>\n",
              "      <td>14</td>\n",
              "      <td>NaN</td>\n",
              "      <td>{\"geodesic\":false,\"type\":\"Point\",\"coordinates\"...</td>\n",
              "    </tr>\n",
              "    <tr>\n",
              "      <th>3167</th>\n",
              "      <td>22_2_00000000000000000379_0</td>\n",
              "      <td>2019-08-05</td>\n",
              "      <td>1</td>\n",
              "      <td>1</td>\n",
              "      <td>1</td>\n",
              "      <td>1</td>\n",
              "      <td>1</td>\n",
              "      <td>NaN</td>\n",
              "      <td>10</td>\n",
              "      <td>NaN</td>\n",
              "      <td>{\"geodesic\":false,\"type\":\"Point\",\"coordinates\"...</td>\n",
              "    </tr>\n",
              "    <tr>\n",
              "      <th>3168</th>\n",
              "      <td>22_2_0000000000000000037e_0</td>\n",
              "      <td>2019-08-05</td>\n",
              "      <td>1</td>\n",
              "      <td>1</td>\n",
              "      <td>1</td>\n",
              "      <td>1</td>\n",
              "      <td>1</td>\n",
              "      <td>NaN</td>\n",
              "      <td>1</td>\n",
              "      <td>NaN</td>\n",
              "      <td>{\"geodesic\":false,\"type\":\"Point\",\"coordinates\"...</td>\n",
              "    </tr>\n",
              "    <tr>\n",
              "      <th>3169</th>\n",
              "      <td>22_2_00000000000000000380_0</td>\n",
              "      <td>2019-08-05</td>\n",
              "      <td>1</td>\n",
              "      <td>1</td>\n",
              "      <td>1</td>\n",
              "      <td>1</td>\n",
              "      <td>1</td>\n",
              "      <td>NaN</td>\n",
              "      <td>10</td>\n",
              "      <td>NaN</td>\n",
              "      <td>{\"geodesic\":false,\"type\":\"Point\",\"coordinates\"...</td>\n",
              "    </tr>\n",
              "    <tr>\n",
              "      <th>3170</th>\n",
              "      <td>22_2_00000000000000000381_0</td>\n",
              "      <td>2019-08-05</td>\n",
              "      <td>1</td>\n",
              "      <td>1</td>\n",
              "      <td>1</td>\n",
              "      <td>1</td>\n",
              "      <td>1</td>\n",
              "      <td>NaN</td>\n",
              "      <td>1</td>\n",
              "      <td>NaN</td>\n",
              "      <td>{\"geodesic\":false,\"type\":\"Point\",\"coordinates\"...</td>\n",
              "    </tr>\n",
              "  </tbody>\n",
              "</table>\n",
              "<p>3171 rows × 11 columns</p>\n",
              "</div>"
            ],
            "text/plain": [
              "                      system:index  ...                                               .geo\n",
              "0     0_1_1_00000000000000000000_0  ...  {\"geodesic\":false,\"type\":\"Point\",\"coordinates\"...\n",
              "1     0_1_1_00000000000000000001_0  ...  {\"geodesic\":false,\"type\":\"Point\",\"coordinates\"...\n",
              "2     0_1_1_00000000000000000002_0  ...  {\"geodesic\":false,\"type\":\"Point\",\"coordinates\"...\n",
              "3     0_1_1_00000000000000000003_0  ...  {\"geodesic\":false,\"type\":\"Point\",\"coordinates\"...\n",
              "4     0_1_1_00000000000000000004_0  ...  {\"geodesic\":false,\"type\":\"Point\",\"coordinates\"...\n",
              "...                            ...  ...                                                ...\n",
              "3166   22_2_00000000000000000376_0  ...  {\"geodesic\":false,\"type\":\"Point\",\"coordinates\"...\n",
              "3167   22_2_00000000000000000379_0  ...  {\"geodesic\":false,\"type\":\"Point\",\"coordinates\"...\n",
              "3168   22_2_0000000000000000037e_0  ...  {\"geodesic\":false,\"type\":\"Point\",\"coordinates\"...\n",
              "3169   22_2_00000000000000000380_0  ...  {\"geodesic\":false,\"type\":\"Point\",\"coordinates\"...\n",
              "3170   22_2_00000000000000000381_0  ...  {\"geodesic\":false,\"type\":\"Point\",\"coordinates\"...\n",
              "\n",
              "[3171 rows x 11 columns]"
            ]
          },
          "metadata": {}
        }
      ]
    },
    {
      "cell_type": "markdown",
      "metadata": {
        "id": "wFMyKMvdgqOA"
      },
      "source": [
        "Lets look at the data graphically"
      ]
    },
    {
      "cell_type": "code",
      "metadata": {
        "id": "pmiPylj8gOf-",
        "colab": {
          "base_uri": "https://localhost:8080/",
          "height": 1000
        },
        "outputId": "4823b9ce-1d97-444f-9c9a-406abe283653"
      },
      "source": [
        "sns.pairplot(mydataset)"
      ],
      "execution_count": null,
      "outputs": [
        {
          "output_type": "execute_result",
          "data": {
            "text/plain": [
              "<seaborn.axisgrid.PairGrid at 0x7fbbf1e13d50>"
            ]
          },
          "metadata": {},
          "execution_count": 11
        },
        {
          "output_type": "display_data",
          "data": {
            "image/png": "[encoded data removed]",
            "text/plain": [
              "<Figure size 1440x1440 with 72 Axes>"
            ]
          },
          "metadata": {
            "needs_background": "light"
          }
        }
      ]
    },
    {
      "cell_type": "markdown",
      "metadata": {
        "id": "tT06aC5bhQir"
      },
      "source": [
        "# Data Flipping"
      ]
    },
    {
      "cell_type": "code",
      "metadata": {
        "id": "GeTernKRhTSU",
        "colab": {
          "base_uri": "https://localhost:8080/"
        },
        "outputId": "ca72e0dc-09ba-4b30-fc57-6e99339f6ba3"
      },
      "source": [
        "##Flips the data through transpose and flip to rearrange the confusion matrix values:(tp, tn, fp, fn) so that it can be emplyed by the the ploting code block below\n",
        "\n",
        "bmaxGeeGrd_results = confusion_matrix(actual, bmaxGeeGrd)\n",
        "print(\"bmaxGeeGrd_results\", bmaxGeeGrd_results)\n",
        "\n",
        "transposed_bmaxGeeGrd = bmaxGeeGrd_results.transpose()\n",
        "#print(\"transposed_bmaxGeeGrd\", transposed_bmaxGeeGrd)\n",
        "\n",
        "final_bmaxGeeGrd_results = np.flip(transposed_bmaxGeeGrd)\n",
        "print(\"final_bmaxGeeGrd_results\", final_bmaxGeeGrd_results)\n",
        "\n",
        "print(\"######\")\n",
        "\n",
        "bmaxSnapRtc_results = confusion_matrix(actual, bmaxSnapRtc)\n",
        "print(\"bmaxGeeGrd_results\", bmaxGeeGrd_results)\n",
        "\n",
        "transposed_bmaxSnapRtc = bmaxSnapRtc_results.transpose()\n",
        "#print(\"transposed_bmaxSnapRtc\", transposed_bmaxSnapRtc)\n",
        "\n",
        "final_bmaxSnapRtc_results = np.flip(transposed_bmaxSnapRtc)\n",
        "print(\"final_bmaxSnapRtc_results\", final_bmaxSnapRtc_results)\n",
        "\n",
        "print(\"######\")\n",
        "\n",
        "edgeGeeGrd_results = confusion_matrix(actual, edgeGeeGrd)\n",
        "print(\"bmaxGeeGrd_results\", bmaxGeeGrd_results)\n",
        "\n",
        "transposed_edgeGeeGrd = edgeGeeGrd_results.transpose()\n",
        "#print(\"transposed_edgeGeeGrd\", transposed_edgeGeeGrd)\n",
        "\n",
        "final_edgeGeeGrd_results = np.flip(transposed_edgeGeeGrd)\n",
        "print(\"final_edgeGeeGrd_results\", final_edgeGeeGrd_results)\n",
        "\n",
        "print(\"######\")\n",
        "\n",
        "edgeSnapRtc_results = confusion_matrix(actual, edgeSnapRtc)\n",
        "print(\"edgeSnapRtc_results\", edgeSnapRtc_results)\n",
        "\n",
        "transposed_edgeSnapRtc = edgeSnapRtc_results.transpose()\n",
        "#print(\"transposed_edgeGeeGrd\", transposed_edgeGeeGrd)\n",
        "\n",
        "final_edgeSnapRtc_results = np.flip(transposed_edgeSnapRtc)\n",
        "print(\"final_edgeSnapRtc_results\", final_edgeSnapRtc_results)"
      ],
      "execution_count": null,
      "outputs": [
        {
          "output_type": "stream",
          "name": "stdout",
          "text": [
            "bmaxGeeGrd_results [[2319  128]\n",
            " [  87  637]]\n",
            "final_bmaxGeeGrd_results [[ 637  128]\n",
            " [  87 2319]]\n",
            "######\n",
            "bmaxGeeGrd_results [[2319  128]\n",
            " [  87  637]]\n",
            "final_bmaxSnapRtc_results [[ 615  109]\n",
            " [ 109 2338]]\n",
            "######\n",
            "bmaxGeeGrd_results [[2319  128]\n",
            " [  87  637]]\n",
            "final_edgeGeeGrd_results [[ 472   28]\n",
            " [ 252 2419]]\n",
            "######\n",
            "edgeSnapRtc_results [[2427   20]\n",
            " [ 148  576]]\n",
            "final_edgeSnapRtc_results [[ 576   20]\n",
            " [ 148 2427]]\n"
          ]
        }
      ]
    },
    {
      "cell_type": "markdown",
      "metadata": {
        "id": "IPoJeu32h-Zm"
      },
      "source": [
        "# Export Stats"
      ]
    },
    {
      "cell_type": "code",
      "metadata": {
        "id": "KXvU5sQ_rJV9",
        "colab": {
          "base_uri": "https://localhost:8080/",
          "height": 996
        },
        "outputId": "8d182215-3db5-426f-bb0d-431f2df4346b"
      },
      "source": [
        "#displays a table of indexed by stat method/algorithm\n",
        "stat_dict = {\"Stat_method\":  [\"Accuracy Score\", \"precision_score\", \"average_precision_score\", \"cohen_kappa_score\", \"brier_score_loss\", \"roc_auc_score\", 'f1_score' ],\n",
        "                        'bmaxGeeGrd':   [accuracy_score(actual, bmaxGeeGrd), precision_score(actual, bmaxGeeGrd),average_precision_score(actual, bmaxGeeGrd), cohen_kappa_score(actual, bmaxGeeGrd), brier_score_loss(actual, bmaxGeeGrd), roc_auc_score(actual, bmaxGeeGrd), f1_score(actual, bmaxGeeGrd)],\n",
        "                        'bmaxSnapRtc':  [accuracy_score(actual, bmaxSnapRtc),precision_score(actual, bmaxSnapRtc), average_precision_score(actual, bmaxSnapRtc), cohen_kappa_score(actual, bmaxSnapRtc), brier_score_loss(actual, bmaxSnapRtc), roc_auc_score(actual, bmaxSnapRtc),f1_score(actual, bmaxGeeGrd)],\n",
        "                        'edgeGeeGrd':   [accuracy_score(actual, edgeGeeGrd), precision_score(actual, edgeGeeGrd), average_precision_score(actual, edgeGeeGrd),cohen_kappa_score(actual, edgeGeeGrd), brier_score_loss(actual, edgeGeeGrd), roc_auc_score(actual, edgeGeeGrd), f1_score(actual, edgeGeeGrd)],\n",
        "                        \"edgeSnapRtc\":  [accuracy_score(actual, edgeSnapRtc), precision_score(actual, edgeSnapRtc), average_precision_score(actual, edgeSnapRtc), cohen_kappa_score(actual, edgeSnapRtc), brier_score_loss(actual, edgeSnapRtc), roc_auc_score(actual, edgeSnapRtc), f1_score(actual, edgeSnapRtc)],\n",
        "                        }\n",
        "\n",
        "stat_dict_output_df = pd.DataFrame(stat_dict)\n",
        "display(stat_dict_output_df)\n",
        "\n",
        "# In colab go to the table of contents (left panel)-> select Files (furtherst left)-> find this CSV right click and download\n",
        "stat_dict_output_df.to_csv('stat_dict_output_df.csv')\n",
        "\n",
        "\n",
        "\n",
        "print(\"-\")\n",
        "print( 'classification_report bmaxGeeGrd :')\n",
        "print( classification_report(actual, bmaxGeeGrd) )\n",
        "print(\"-\")\n",
        "print( 'classification_report bmaxSnapRtc :')\n",
        "print( classification_report(actual, bmaxSnapRtc) )\n",
        "print(\"-\")\n",
        "print( 'classification_report edgeGeeGrd :')\n",
        "print( classification_report(actual, edgeGeeGrd) )\n",
        "print(\"-\")\n",
        "print( 'classification_report edgeSnapRtc :')\n",
        "print( classification_report(actual, edgeSnapRtc) )\n"
      ],
      "execution_count": null,
      "outputs": [
        {
          "output_type": "display_data",
          "data": {
            "text/html": [
              "<div>\n",
              "<style scoped>\n",
              "    .dataframe tbody tr th:only-of-type {\n",
              "        vertical-align: middle;\n",
              "    }\n",
              "\n",
              "    .dataframe tbody tr th {\n",
              "        vertical-align: top;\n",
              "    }\n",
              "\n",
              "    .dataframe thead th {\n",
              "        text-align: right;\n",
              "    }\n",
              "</style>\n",
              "<table border=\"1\" class=\"dataframe\">\n",
              "  <thead>\n",
              "    <tr style=\"text-align: right;\">\n",
              "      <th></th>\n",
              "      <th>Stat_method</th>\n",
              "      <th>bmaxGeeGrd</th>\n",
              "      <th>bmaxSnapRtc</th>\n",
              "      <th>edgeGeeGrd</th>\n",
              "      <th>edgeSnapRtc</th>\n",
              "    </tr>\n",
              "  </thead>\n",
              "  <tbody>\n",
              "    <tr>\n",
              "      <th>0</th>\n",
              "      <td>Accuracy Score</td>\n",
              "      <td>0.932198</td>\n",
              "      <td>0.931252</td>\n",
              "      <td>0.911700</td>\n",
              "      <td>0.947020</td>\n",
              "    </tr>\n",
              "    <tr>\n",
              "      <th>1</th>\n",
              "      <td>precision_score</td>\n",
              "      <td>0.832680</td>\n",
              "      <td>0.849448</td>\n",
              "      <td>0.944000</td>\n",
              "      <td>0.966443</td>\n",
              "    </tr>\n",
              "    <tr>\n",
              "      <th>2</th>\n",
              "      <td>average_precision_score</td>\n",
              "      <td>0.760056</td>\n",
              "      <td>0.755935</td>\n",
              "      <td>0.694896</td>\n",
              "      <td>0.815556</td>\n",
              "    </tr>\n",
              "    <tr>\n",
              "      <th>3</th>\n",
              "      <td>cohen_kappa_score</td>\n",
              "      <td>0.811349</td>\n",
              "      <td>0.804903</td>\n",
              "      <td>0.718785</td>\n",
              "      <td>0.839671</td>\n",
              "    </tr>\n",
              "    <tr>\n",
              "      <th>4</th>\n",
              "      <td>brier_score_loss</td>\n",
              "      <td>0.067802</td>\n",
              "      <td>0.068748</td>\n",
              "      <td>0.088300</td>\n",
              "      <td>0.052980</td>\n",
              "    </tr>\n",
              "    <tr>\n",
              "      <th>5</th>\n",
              "      <td>roc_auc_score</td>\n",
              "      <td>0.913763</td>\n",
              "      <td>0.902452</td>\n",
              "      <td>0.820246</td>\n",
              "      <td>0.893703</td>\n",
              "    </tr>\n",
              "    <tr>\n",
              "      <th>6</th>\n",
              "      <td>f1_score</td>\n",
              "      <td>0.855608</td>\n",
              "      <td>0.855608</td>\n",
              "      <td>0.771242</td>\n",
              "      <td>0.872727</td>\n",
              "    </tr>\n",
              "  </tbody>\n",
              "</table>\n",
              "</div>"
            ],
            "text/plain": [
              "               Stat_method  bmaxGeeGrd  bmaxSnapRtc  edgeGeeGrd  edgeSnapRtc\n",
              "0           Accuracy Score    0.932198     0.931252    0.911700     0.947020\n",
              "1          precision_score    0.832680     0.849448    0.944000     0.966443\n",
              "2  average_precision_score    0.760056     0.755935    0.694896     0.815556\n",
              "3        cohen_kappa_score    0.811349     0.804903    0.718785     0.839671\n",
              "4         brier_score_loss    0.067802     0.068748    0.088300     0.052980\n",
              "5            roc_auc_score    0.913763     0.902452    0.820246     0.893703\n",
              "6                 f1_score    0.855608     0.855608    0.771242     0.872727"
            ]
          },
          "metadata": {}
        },
        {
          "output_type": "stream",
          "name": "stdout",
          "text": [
            "-\n",
            "classification_report bmaxGeeGrd :\n",
            "              precision    recall  f1-score   support\n",
            "\n",
            "           0       0.96      0.95      0.96      2447\n",
            "           1       0.83      0.88      0.86       724\n",
            "\n",
            "    accuracy                           0.93      3171\n",
            "   macro avg       0.90      0.91      0.91      3171\n",
            "weighted avg       0.93      0.93      0.93      3171\n",
            "\n",
            "-\n",
            "classification_report bmaxSnapRtc :\n",
            "              precision    recall  f1-score   support\n",
            "\n",
            "           0       0.96      0.96      0.96      2447\n",
            "           1       0.85      0.85      0.85       724\n",
            "\n",
            "    accuracy                           0.93      3171\n",
            "   macro avg       0.90      0.90      0.90      3171\n",
            "weighted avg       0.93      0.93      0.93      3171\n",
            "\n",
            "-\n",
            "classification_report edgeGeeGrd :\n",
            "              precision    recall  f1-score   support\n",
            "\n",
            "           0       0.91      0.99      0.95      2447\n",
            "           1       0.94      0.65      0.77       724\n",
            "\n",
            "    accuracy                           0.91      3171\n",
            "   macro avg       0.92      0.82      0.86      3171\n",
            "weighted avg       0.91      0.91      0.91      3171\n",
            "\n",
            "-\n",
            "classification_report edgeSnapRtc :\n",
            "              precision    recall  f1-score   support\n",
            "\n",
            "           0       0.94      0.99      0.97      2447\n",
            "           1       0.97      0.80      0.87       724\n",
            "\n",
            "    accuracy                           0.95      3171\n",
            "   macro avg       0.95      0.89      0.92      3171\n",
            "weighted avg       0.95      0.95      0.95      3171\n",
            "\n"
          ]
        }
      ]
    },
    {
      "cell_type": "markdown",
      "metadata": {
        "id": "aYJUSaFtkCiY"
      },
      "source": [
        "# Confusion Matrix Referencing Flipped data"
      ]
    },
    {
      "cell_type": "code",
      "metadata": {
        "id": "ANyWF6uBua2x",
        "colab": {
          "base_uri": "https://localhost:8080/",
          "height": 1000
        },
        "outputId": "1f8bb99e-9d68-4102-e807-6995671e84dd"
      },
      "source": [
        "#this code block produces 4 confusion matrices using plot_confusion_matrix\n",
        "\n",
        "def plot_confusion_matrix(cm, classes,\n",
        "                          normalize=False,\n",
        "                          title='Confusion matrix',\n",
        "                          cmap=plt.cm.Blues):\n",
        "    \"\"\"\n",
        "    This function prints and plots the confusion matrix.\n",
        "    Normalization can be applied by setting `normalize=True`.\n",
        "    \"\"\"\n",
        "    plt.imshow(cm, interpolation='nearest', cmap=cmap)\n",
        "    plt.title(title)\n",
        "    plt.colorbar()\n",
        "    tick_marks = np.arange(len(classes))\n",
        "    plt.xticks(tick_marks, classes, rotation=45)\n",
        "    plt.yticks(tick_marks, classes)\n",
        "\n",
        "    if normalize:\n",
        "        cm = cm.astype('float') / cm.sum(axis=1)[:, np.newaxis]\n",
        "        print(\"Normalized confusion matrix\")\n",
        "    else:\n",
        "        print('Confusion matrix, without normalization')\n",
        "\n",
        "    print(cm)\n",
        "\n",
        "    thresh = cm.max() / 2.\n",
        "    for i, j in itertools.product(range(cm.shape[0]), range(cm.shape[1])):\n",
        "        plt.text(j, i, cm[i, j],\n",
        "                 horizontalalignment=\"center\",\n",
        "                 color=\"white\" if cm[i, j] > thresh else \"black\")\n",
        "\n",
        "\n",
        "    plt.tight_layout()\n",
        "    plt.ylabel('True label')\n",
        "    plt.xlabel('Predicted label')\n",
        "\n",
        "\n",
        "##code should automatically save the plots as pngs or you can right click them and save as too.\n",
        "\n",
        "#Plot bmaxGeeGrd confusion matrix\n",
        "plt.figure()\n",
        "plot_confusion_matrix(final_bmaxGeeGrd_results, classes=class_names,\n",
        "                      title= 'bmaxGeeGrd_AllPoints')\n",
        "\n",
        "#fig.savefig('bmaxGeeGrd_Enter_title_here')\n",
        "\n",
        "# Plot bmaxSnapRtc confusion matrix\n",
        "plt.figure()\n",
        "plot_confusion_matrix(final_bmaxSnapRtc_results, classes=class_names,\n",
        "                      title='bmaxSnapRtc_AllPoints')\n",
        "#fig.savefig('bmaxSnapRtc_Enter_title_here')\n",
        "\n",
        "# Plot edgeGeeGrd confusion matrix\n",
        "plt.figure()\n",
        "plot_confusion_matrix(final_edgeGeeGrd_results, classes=class_names,\n",
        "                      title='edgeGeeGrd_AllPoints')\n",
        "#fig.savefig('edgeGeeGrd_Enter_title_here')\n",
        "\n",
        "# Plot edgeSnapRtc confusion matrix\n",
        "plt.figure()\n",
        "plot_confusion_matrix(final_edgeSnapRtc_results, classes=class_names,\n",
        "                      title='edgeSnapRtc_AllPoints')\n",
        "#fig.savefig('edgeSnapRtc_Enter_title_here')\n",
        "\n",
        "plt.savefig(\"abc.png\")\n",
        "plt.show()"
      ],
      "execution_count": null,
      "outputs": [
        {
          "output_type": "stream",
          "name": "stdout",
          "text": [
            "Confusion matrix, without normalization\n",
            "[[ 637  128]\n",
            " [  87 2319]]\n",
            "Confusion matrix, without normalization\n",
            "[[ 615  109]\n",
            " [ 109 2338]]\n",
            "Confusion matrix, without normalization\n",
            "[[ 472   28]\n",
            " [ 252 2419]]\n",
            "Confusion matrix, without normalization\n",
            "[[ 576   20]\n",
            " [ 148 2427]]\n"
          ]
        },
        {
          "output_type": "display_data",
          "data": {
            "image/png": "[encoded data removed]",
            "text/plain": [
              "<Figure size 432x288 with 2 Axes>"
            ]
          },
          "metadata": {
            "needs_background": "light"
          }
        },
        {
          "output_type": "display_data",
          "data": {
            "image/png": "[encoded data removed]",
            "text/plain": [
              "<Figure size 432x288 with 2 Axes>"
            ]
          },
          "metadata": {
            "needs_background": "light"
          }
        },
        {
          "output_type": "display_data",
          "data": {
            "image/png": "[encoded data removed]",
            "text/plain": [
              "<Figure size 432x288 with 2 Axes>"
            ]
          },
          "metadata": {
            "needs_background": "light"
          }
        },
        {
          "output_type": "display_data",
          "data": {
            "image/png": "[encoded data removed]",
            "text/plain": [
              "<Figure size 432x288 with 2 Axes>"
            ]
          },
          "metadata": {
            "needs_background": "light"
          }
        }
      ]
    },
    {
      "cell_type": "markdown",
      "metadata": {
        "id": "DKf4qnnAe-Cj"
      },
      "source": [
        "# Additional Stats print outs"
      ]
    },
    {
      "cell_type": "code",
      "metadata": {
        "id": "VIakYiU-TjPT",
        "colab": {
          "base_uri": "https://localhost:8080/"
        },
        "outputId": "7230acbe-6981-452c-cacd-c5c5a9e27a29"
      },
      "source": [
        "\n",
        "print(\"-\")\n",
        "print( 'Accuracy Score bmaxGeeGrd :',accuracy_score(actual, bmaxGeeGrd) )\n",
        "print( 'Accuracy Score bmaxSnapRtc :',accuracy_score(actual, bmaxSnapRtc) )\n",
        "print( 'Accuracy Score edgeGeeGrd :',accuracy_score(actual, edgeGeeGrd) )\n",
        "print( 'Accuracy Score edgeSnapRtc :',accuracy_score(actual, edgeSnapRtc))\n",
        "\n",
        "\n",
        "print(\"-\")\n",
        "print('precision_score bmaxGeeGrd :', precision_score(actual, bmaxGeeGrd))\n",
        "print('precision_score bmaxSnapRtc :', precision_score(actual, bmaxSnapRtc))\n",
        "print('precision_score edgeGeeGrd :', precision_score(actual, edgeGeeGrd))\n",
        "print('precision_score edgeSnapRtc :', precision_score(actual, edgeSnapRtc))\n",
        "\n",
        "print(\"-\")\n",
        "print('cohen_kappa_score bmaxGeeGrd :',cohen_kappa_score(actual, bmaxGeeGrd))\n",
        "print('cohen_kappa_score bmaxSnapRtc :',cohen_kappa_score(actual, bmaxSnapRtc))\n",
        "print('cohen_kappa_score edgeGeeGrd :',cohen_kappa_score(actual, edgeGeeGrd))\n",
        "print('cohen_kappa_score edgeSnapRtc :',cohen_kappa_score(actual, edgeSnapRtc))\n",
        "\n",
        "print(\"-\")\n",
        "print('average_precision_score bmaxGeeGrd :',average_precision_score(actual, bmaxGeeGrd))\n",
        "print('average_precision_score bmaxSnapRtc :',average_precision_score(actual, bmaxSnapRtc))\n",
        "print('average_precision_score edgeGeeGrd :',average_precision_score(actual, edgeGeeGrd))\n",
        "print('average_precision_score edgeSnapRtc :',average_precision_score(actual, edgeSnapRtc))\n",
        "\n",
        "print(\"-\")\n",
        "print('f1_score bmaxGeeGrd :',f1_score(actual, bmaxGeeGrd))\n",
        "print('f1_score bmaxSnapRtc :',f1_score(actual, bmaxSnapRtc))\n",
        "print('f1_score edgeGeeGrd :',f1_score(actual, edgeGeeGrd))\n",
        "print('f1_score edgeSnapRtc :',f1_score(actual, edgeSnapRtc))\n",
        "\n",
        "\n",
        "print(\"-\")\n",
        "print('fbeta_score beta=.05 bmaxGeeGrd :',fbeta_score(actual, bmaxGeeGrd, beta=0.5))\n",
        "print('fbeta_score beta=.05 bmaxSnapRtc :',fbeta_score(actual, bmaxSnapRtc, beta=0.5))\n",
        "print('fbeta_score beta=.05 edgeGeeGrd :',fbeta_score(actual, edgeGeeGrd, beta=0.5))\n",
        "print('fbeta_score beta=.05 edgeSnapRtc :',fbeta_score(actual, edgeSnapRtc, beta=0.5))\n",
        "print(\"-\")\n",
        "print('fbeta_score beta=1 bmaxGeeGrd :',fbeta_score(actual, bmaxGeeGrd, beta=1))\n",
        "print('fbeta_score beta=1 bmaxSnapRtc :',fbeta_score(actual, bmaxSnapRtc, beta=1))\n",
        "print('fbeta_score beta=1 edgeGeeGrd :',fbeta_score(actual, edgeGeeGrd, beta=1))\n",
        "print('fbeta_score beta=1 edgeSnapRtc :',fbeta_score(actual, edgeSnapRtc, beta=1))\n",
        "print(\"-\")\n",
        "print('fbeta_score beta=2 bmaxGeeGrd :',fbeta_score(actual, bmaxGeeGrd, beta=2))\n",
        "print('fbeta_score beta=2 bmaxSnapRtc :',fbeta_score(actual, bmaxSnapRtc, beta=2))\n",
        "print('fbeta_score beta=2 edgeGeeGrd :',fbeta_score(actual, edgeGeeGrd, beta=2))\n",
        "print('fbeta_score beta=2 edgeSnapRtc :',fbeta_score(actual, edgeSnapRtc, beta=2))\n",
        "\n",
        "print(\"-\")\n",
        "print('roc_auc_score bmaxGeeGrd :',roc_auc_score(actual, bmaxGeeGrd))\n",
        "print('roc_auc_score bmaxSnapRtc :',roc_auc_score(actual, bmaxSnapRtc))\n",
        "print('roc_auc_score edgeGeeGrd :',roc_auc_score(actual, edgeGeeGrd))\n",
        "print('roc_auc_scoreedgeSnapRtc :',roc_auc_score(actual, edgeSnapRtc))\n",
        "\n",
        "\n",
        "print(\"-\")\n",
        "print('brier_score_loss bmaxGeeGrd :',brier_score_loss(actual, bmaxGeeGrd))\n",
        "print('brier_score_loss bmaxSnapRtc :',brier_score_loss(actual, bmaxSnapRtc))\n",
        "print('brier_score_loss edgeGeeGrd :',brier_score_loss(actual, edgeGeeGrd))\n",
        "print('brier_score_loss edgeSnapRtc:',brier_score_loss(actual, edgeSnapRtc))\n",
        "\n",
        "print(\"-\")\n",
        "print( 'classification_report bmaxGeeGrd :')\n",
        "print( classification_report(actual, bmaxGeeGrd) )\n",
        "print(\"-\")\n",
        "print( 'classification_report bmaxSnapRtc :')\n",
        "print( classification_report(actual, bmaxSnapRtc) )\n",
        "print(\"-\")\n",
        "print( 'classification_report edgeGeeGrd :')\n",
        "print( classification_report(actual, edgeGeeGrd) )\n",
        "print(\"-\")\n",
        "print( 'classification_report edgeSnapRtc :')\n",
        "print( classification_report(actual, edgeSnapRtc) )\n"
      ],
      "execution_count": null,
      "outputs": [
        {
          "output_type": "stream",
          "name": "stdout",
          "text": [
            "-\n",
            "Accuracy Score bmaxGeeGrd : 0.9321980447808262\n",
            "Accuracy Score bmaxSnapRtc : 0.9312519709870704\n",
            "Accuracy Score edgeGeeGrd : 0.9116997792494481\n",
            "Accuracy Score edgeSnapRtc : 0.9470198675496688\n",
            "-\n",
            "precision_score bmaxGeeGrd : 0.8326797385620915\n",
            "precision_score bmaxSnapRtc : 0.8494475138121547\n",
            "precision_score edgeGeeGrd : 0.944\n",
            "precision_score edgeSnapRtc : 0.9664429530201343\n",
            "-\n",
            "cohen_kappa_score bmaxGeeGrd : 0.8113491826971369\n",
            "cohen_kappa_score bmaxSnapRtc : 0.8049031738039814\n",
            "cohen_kappa_score edgeGeeGrd : 0.7187853941210602\n",
            "cohen_kappa_score edgeSnapRtc : 0.8396707268038879\n",
            "-\n",
            "average_precision_score bmaxGeeGrd : 0.7600562967372257\n",
            "average_precision_score bmaxSnapRtc : 0.7559350932281155\n",
            "average_precision_score edgeGeeGrd : 0.6948956130401375\n",
            "average_precision_score edgeSnapRtc : 0.8155557651783266\n",
            "-\n",
            "f1_score bmaxGeeGrd : 0.8556077904633982\n",
            "f1_score bmaxSnapRtc : 0.8494475138121547\n",
            "f1_score edgeGeeGrd : 0.7712418300653595\n",
            "f1_score edgeSnapRtc : 0.8727272727272727\n",
            "-\n",
            "fbeta_score beta=.05 bmaxGeeGrd : 0.8417019027484145\n",
            "fbeta_score beta=.05 bmaxSnapRtc : 0.8494475138121547\n",
            "fbeta_score beta=.05 edgeGeeGrd : 0.8663729809104258\n",
            "fbeta_score beta=.05 edgeSnapRtc : 0.9266409266409266\n",
            "-\n",
            "fbeta_score beta=1 bmaxGeeGrd : 0.8556077904633982\n",
            "fbeta_score beta=1 bmaxSnapRtc : 0.8494475138121547\n",
            "fbeta_score beta=1 edgeGeeGrd : 0.7712418300653595\n",
            "fbeta_score beta=1 edgeSnapRtc : 0.8727272727272727\n",
            "-\n",
            "fbeta_score beta=2 bmaxGeeGrd : 0.8699808795411091\n",
            "fbeta_score beta=2 bmaxSnapRtc : 0.8494475138121547\n",
            "fbeta_score beta=2 edgeGeeGrd : 0.6949352179034157\n",
            "fbeta_score beta=2 edgeSnapRtc : 0.8247422680412371\n",
            "-\n",
            "roc_auc_score bmaxGeeGrd : 0.9137626522046389\n",
            "roc_auc_score bmaxSnapRtc : 0.9024515869019906\n",
            "roc_auc_score edgeGeeGrd : 0.8202455594515327\n",
            "roc_auc_scoreedgeSnapRtc : 0.8937034185506213\n",
            "-\n",
            "brier_score_loss bmaxGeeGrd : 0.06780195521917376\n",
            "brier_score_loss bmaxSnapRtc : 0.06874802901292967\n",
            "brier_score_loss edgeGeeGrd : 0.08830022075055188\n",
            "brier_score_loss edgeSnapRtc: 0.052980132450331126\n",
            "-\n",
            "classification_report bmaxGeeGrd :\n",
            "              precision    recall  f1-score   support\n",
            "\n",
            "           0       0.96      0.95      0.96      2447\n",
            "           1       0.83      0.88      0.86       724\n",
            "\n",
            "    accuracy                           0.93      3171\n",
            "   macro avg       0.90      0.91      0.91      3171\n",
            "weighted avg       0.93      0.93      0.93      3171\n",
            "\n",
            "-\n",
            "classification_report bmaxSnapRtc :\n",
            "              precision    recall  f1-score   support\n",
            "\n",
            "           0       0.96      0.96      0.96      2447\n",
            "           1       0.85      0.85      0.85       724\n",
            "\n",
            "    accuracy                           0.93      3171\n",
            "   macro avg       0.90      0.90      0.90      3171\n",
            "weighted avg       0.93      0.93      0.93      3171\n",
            "\n",
            "-\n",
            "classification_report edgeGeeGrd :\n",
            "              precision    recall  f1-score   support\n",
            "\n",
            "           0       0.91      0.99      0.95      2447\n",
            "           1       0.94      0.65      0.77       724\n",
            "\n",
            "    accuracy                           0.91      3171\n",
            "   macro avg       0.92      0.82      0.86      3171\n",
            "weighted avg       0.91      0.91      0.91      3171\n",
            "\n",
            "-\n",
            "classification_report edgeSnapRtc :\n",
            "              precision    recall  f1-score   support\n",
            "\n",
            "           0       0.94      0.99      0.97      2447\n",
            "           1       0.97      0.80      0.87       724\n",
            "\n",
            "    accuracy                           0.95      3171\n",
            "   macro avg       0.95      0.89      0.92      3171\n",
            "weighted avg       0.95      0.95      0.95      3171\n",
            "\n"
          ]
        }
      ]
    }
  ]
}